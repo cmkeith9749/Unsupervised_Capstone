{
 "cells": [
  {
   "cell_type": "markdown",
   "metadata": {},
   "source": [
    "<h3 align=\"center\"> Unsupervised Learning Capstone -  Classification of Bloggers</h3> \n",
    "\n",
    "__Contents__<a name=\"top\"></a>\n",
    "1. [Summary of Results](#sum)\n",
    "1. [Dataset  Description and Notes](#describe)\n",
    "1. [Objective](#object)\n",
    "1. [Example XML Files](#xml)\n",
    "2. [Cleaning and Processing Data](#clean)\n",
    " - [process01 Function](#pro1)\n",
    " - [process02 Function](#pro2)\n",
    " - [process03 Function](#pro3)\n",
    "3. [Create Dataframe and Save to File](#file)"
   ]
  },
  {
   "cell_type": "markdown",
   "metadata": {},
   "source": [
    "### Analysis Summary  <a name=\"sum\"></a>\n",
    "\n",
    "The [dataset](#describe) utilized includes 19,000+ blogger's posts along with some additional features such as gender and age.  Natural Language Processing (NLP) techiques were used to develop features from the post content.  While the Unsupervised modeling method of clustering was proscribed as the initial claassifier, supervised classifiers were also utilized to understand the results.  \n",
    "\n",
    "The initial objective of the analysis included: \n",
    "\n",
    "1. Indentify the individual bloggers from the features developed from the posts.  \n",
    "2. Classify a bloggers gender and age from the features developed from the posts.\n",
    "\n",
    "For objective 1, a dataset was developed \n",
    "\n",
    "The initial idea for the for the period feature was that it may work in combination with the LSA features when the classification targets were \"age\" or \"gender\"."
   ]
  },
  {
   "cell_type": "markdown",
   "metadata": {},
   "source": [
    "### Dataset  Description and Notes <a name=\"describe\"></a>\n",
    "\n",
    "Here is the\n",
    "The main reason that I choose this dataset is beyond the text provided by the blog posts, there are four additonal features of gender, age, occupation and sign that can be targeted. I will admit that maybe the idea of using a horoscope sign feature for a target intrigued me more than it should.  \n",
    "\n",
    "The dataset includes:\n",
    "\n",
    "- There are 19,322 xml files that vary greatly in size. Some lack the values for the occupation feature.  While most of the xml values required cleaning before they could be parsed, some had to be discarded because they were no where near *\"well formed\"*.\n",
    "- To develop a classifier model that targets blogger, I used the 10 largest files.\n",
    "- Seperate classifer models that target the other four features are developed from  a set of 200 files with a size of around 25 kb.  That seem to give me a reasonable amount of post samples for each blogger.  I did not use a file that lacked an occupation value nor any with an age of 21 or less.   \n",
    "- Sort xml files by size and select about 200 files in the 25k byte range that have a reasonable amount of text / blog entries\n",
    "-  Filter out files that don't have info for all features.  Filter out bloggers with age less than 25. \n",
    "-  *import lxml.etree as ET* not xml.etree due to decoding issues in the xml files\n",
    "- Some xml files still have decoding issues and are not used. \n",
    "\n",
    "*Please cite the following if you use the data:*\n",
    "\n",
    "J. Schler, M. Koppel, S. Argamon and J. Pennebaker (2006). Effects of Age and Gender on Blogging in Proceedings of 2006 AAAI Spring Symposium on Computational Approaches for Analyzing Weblogs.\n",
    " "
   ]
  },
  {
   "cell_type": "markdown",
   "metadata": {},
   "source": [
    "### Dataset Cleaning and Processing\n",
    "\n",
    "The cleaning and parsing of the xml files along with the NLP processing of the post text is accomplished in separate notebook due to the time involved. The end products as DataFrames were saved to files and loaded into this notebook.  This is the link. [040501 Data](https://pages.github.com/)"
   ]
  },
  {
   "cell_type": "code",
   "execution_count": 1,
   "metadata": {},
   "outputs": [],
   "source": [
    "import pandas as pd\n",
    "import numpy as np\n",
    "from string import ascii_uppercase\n",
    "import random"
   ]
  },
  {
   "cell_type": "code",
   "execution_count": 2,
   "metadata": {},
   "outputs": [],
   "source": [
    "# load DataFrames from Data notebook \n",
    "dfa = pd.read_csv(r'data/dfa.csv', index_col = 0, header=0)\n",
    "dfa.date = pd.to_datetime(dfa.date)\n",
    "dfb = pd.read_csv(r'data/dfb.csv', index_col = 0, header=0)\n",
    "dfb.date = pd.to_datetime(dfb.date)\n",
    "dff = pd.read_csv(r'data/dff.csv', index_col = 0, header=0)"
   ]
  },
  {
   "cell_type": "markdown",
   "metadata": {},
   "source": [
    "#### imported DataFrames\n",
    "Two sample sets:\n",
    " - dfa is derived from the 10 of the most prolific bloggers with approxiamately 8500 rows of samples. \n",
    " - dfb is from approxiamately 200 bloggers  with approxiamately 4500 samples.\n",
    "Dataframe for exploring features and feature engineering\n",
    " - dff is dfb without the NLP features and one sample per blogger. "
   ]
  },
  {
   "cell_type": "code",
   "execution_count": 3,
   "metadata": {},
   "outputs": [
    {
     "data": {
      "text/html": [
       "<div>\n",
       "<style scoped>\n",
       "    .dataframe tbody tr th:only-of-type {\n",
       "        vertical-align: middle;\n",
       "    }\n",
       "\n",
       "    .dataframe tbody tr th {\n",
       "        vertical-align: top;\n",
       "    }\n",
       "\n",
       "    .dataframe thead th {\n",
       "        text-align: right;\n",
       "    }\n",
       "</style>\n",
       "<table border=\"1\" class=\"dataframe\">\n",
       "  <thead>\n",
       "    <tr style=\"text-align: right;\">\n",
       "      <th></th>\n",
       "      <th>blgr</th>\n",
       "      <th>date</th>\n",
       "      <th>post</th>\n",
       "      <th>lnth</th>\n",
       "    </tr>\n",
       "  </thead>\n",
       "  <tbody>\n",
       "    <tr>\n",
       "      <th>8556</th>\n",
       "      <td>J</td>\n",
       "      <td>2004-08-01</td>\n",
       "      <td>\\n\\n\\t \\n       urlLink National Sales Tax??  ...</td>\n",
       "      <td>169</td>\n",
       "    </tr>\n",
       "    <tr>\n",
       "      <th>8557</th>\n",
       "      <td>J</td>\n",
       "      <td>2004-08-01</td>\n",
       "      <td>\\n\\n\\t \\n      Hey, I have a request for every...</td>\n",
       "      <td>1512</td>\n",
       "    </tr>\n",
       "  </tbody>\n",
       "</table>\n",
       "</div>"
      ],
      "text/plain": [
       "     blgr       date                                               post  lnth\n",
       "8556    J 2004-08-01  \\n\\n\\t \\n       urlLink National Sales Tax??  ...   169\n",
       "8557    J 2004-08-01  \\n\\n\\t \\n      Hey, I have a request for every...  1512"
      ]
     },
     "execution_count": 3,
     "metadata": {},
     "output_type": "execute_result"
    }
   ],
   "source": [
    "dfa.tail(2)"
   ]
  },
  {
   "cell_type": "code",
   "execution_count": 4,
   "metadata": {},
   "outputs": [
    {
     "data": {
      "text/html": [
       "<div>\n",
       "<style scoped>\n",
       "    .dataframe tbody tr th:only-of-type {\n",
       "        vertical-align: middle;\n",
       "    }\n",
       "\n",
       "    .dataframe tbody tr th {\n",
       "        vertical-align: top;\n",
       "    }\n",
       "\n",
       "    .dataframe thead th {\n",
       "        text-align: right;\n",
       "    }\n",
       "</style>\n",
       "<table border=\"1\" class=\"dataframe\">\n",
       "  <thead>\n",
       "    <tr style=\"text-align: right;\">\n",
       "      <th></th>\n",
       "      <th>gndr</th>\n",
       "      <th>age</th>\n",
       "      <th>ocpn</th>\n",
       "      <th>sign</th>\n",
       "      <th>date</th>\n",
       "      <th>post</th>\n",
       "      <th>lnth</th>\n",
       "    </tr>\n",
       "  </thead>\n",
       "  <tbody>\n",
       "    <tr>\n",
       "      <th>4436</th>\n",
       "      <td>male</td>\n",
       "      <td>24</td>\n",
       "      <td>Internet</td>\n",
       "      <td>Leo</td>\n",
       "      <td>2004-06-15</td>\n",
       "      <td>\\n\\n    \\n       As I mentioned in  urlLink my...</td>\n",
       "      <td>2707</td>\n",
       "    </tr>\n",
       "    <tr>\n",
       "      <th>4437</th>\n",
       "      <td>male</td>\n",
       "      <td>24</td>\n",
       "      <td>Internet</td>\n",
       "      <td>Leo</td>\n",
       "      <td>2004-06-06</td>\n",
       "      <td>\\n\\n    \\n       wow, the irony of the title o...</td>\n",
       "      <td>5331</td>\n",
       "    </tr>\n",
       "  </tbody>\n",
       "</table>\n",
       "</div>"
      ],
      "text/plain": [
       "      gndr  age      ocpn sign       date  \\\n",
       "4436  male   24  Internet  Leo 2004-06-15   \n",
       "4437  male   24  Internet  Leo 2004-06-06   \n",
       "\n",
       "                                                   post  lnth  \n",
       "4436  \\n\\n    \\n       As I mentioned in  urlLink my...  2707  \n",
       "4437  \\n\\n    \\n       wow, the irony of the title o...  5331  "
      ]
     },
     "execution_count": 4,
     "metadata": {},
     "output_type": "execute_result"
    }
   ],
   "source": [
    "dfb.tail(2)"
   ]
  },
  {
   "cell_type": "code",
   "execution_count": 5,
   "metadata": {},
   "outputs": [
    {
     "data": {
      "text/html": [
       "<div>\n",
       "<style scoped>\n",
       "    .dataframe tbody tr th:only-of-type {\n",
       "        vertical-align: middle;\n",
       "    }\n",
       "\n",
       "    .dataframe tbody tr th {\n",
       "        vertical-align: top;\n",
       "    }\n",
       "\n",
       "    .dataframe thead th {\n",
       "        text-align: right;\n",
       "    }\n",
       "</style>\n",
       "<table border=\"1\" class=\"dataframe\">\n",
       "  <thead>\n",
       "    <tr style=\"text-align: right;\">\n",
       "      <th></th>\n",
       "      <th>gndrs</th>\n",
       "      <th>ages</th>\n",
       "      <th>signs</th>\n",
       "      <th>ocpns</th>\n",
       "    </tr>\n",
       "  </thead>\n",
       "  <tbody>\n",
       "    <tr>\n",
       "      <th>179</th>\n",
       "      <td>female</td>\n",
       "      <td>23</td>\n",
       "      <td>Scorpio</td>\n",
       "      <td>LawEnforcement-Security</td>\n",
       "    </tr>\n",
       "    <tr>\n",
       "      <th>180</th>\n",
       "      <td>male</td>\n",
       "      <td>24</td>\n",
       "      <td>Leo</td>\n",
       "      <td>Internet</td>\n",
       "    </tr>\n",
       "  </tbody>\n",
       "</table>\n",
       "</div>"
      ],
      "text/plain": [
       "      gndrs  ages    signs                    ocpns\n",
       "179  female    23  Scorpio  LawEnforcement-Security\n",
       "180    male    24      Leo                 Internet"
      ]
     },
     "execution_count": 5,
     "metadata": {},
     "output_type": "execute_result"
    }
   ],
   "source": [
    "dff.tail(2)"
   ]
  },
  {
   "cell_type": "markdown",
   "metadata": {},
   "source": [
    "### Features\n",
    "\n",
    "There are five targets:\n",
    " - \"blogger\" ('blgr') with 10 unique values labeled A - J. \n",
    " - \"age\" feature grouped into 5 ranges as \"age group\"('age_grp') 0 - 4.\n",
    " - \"gender\" ('gndr') with two unique values \"Male\" and \"Female\").\n",
    " - \"occupation\" ('ocpn') feature grouped into 10 sets as \"occupation group\" ('ocpn_grp') labeled A - J.\n",
    " - \"sign\" with 12 unique values including \"Virgo\"\n",
    " \n",
    "  \n",
    "\n",
    "There are three additional features:\n",
    " - \"date\" is separated by month as \"period\" ('prd') with 37 values (0-36). Again this feature may be of limited value, but may work in conjunction with the NLP features.  \n",
    " - \"bag of words\" ('bow') extracted from the posts \n",
    " - \"tf-idf\" ('idf') developed from the \"bag of words\".  "
   ]
  },
  {
   "cell_type": "code",
   "execution_count": 6,
   "metadata": {},
   "outputs": [],
   "source": [
    "from matplotlib import pyplot as plt\n",
    "%matplotlib inline\n",
    "import seaborn as sns\n",
    "sns.set(style=\"whitegrid\")"
   ]
  },
  {
   "cell_type": "markdown",
   "metadata": {},
   "source": [
    "#### Gender \n",
    "Check the distribution of the \"gender\" feature"
   ]
  },
  {
   "cell_type": "code",
   "execution_count": 7,
   "metadata": {},
   "outputs": [
    {
     "name": "stdout",
     "output_type": "stream",
     "text": [
      "The 181 bloggers include 103 males and 78 females\n"
     ]
    }
   ],
   "source": [
    "n_blgr = dff.__len__()\n",
    "n_male = dff[dff.gndrs ==   'male'].__len__()\n",
    "n_fmle = dff[dff.gndrs == 'female'].__len__()\n",
    "print(\"The %i bloggers include %i males and %i females\" % (n_blgr,n_male, n_fmle))"
   ]
  },
  {
   "cell_type": "markdown",
   "metadata": {},
   "source": [
    "#### Age and Age Group\n",
    "The overall age distribution is not very even, but the ranges pretty much group themselves.  "
   ]
  },
  {
   "cell_type": "code",
   "execution_count": 8,
   "metadata": {},
   "outputs": [
    {
     "data": {
      "image/png": "[encoded data removed]",
      "text/plain": [
       "<Figure size 864x288 with 1 Axes>"
      ]
     },
     "metadata": {
      "needs_background": "light"
     },
     "output_type": "display_data"
    }
   ],
   "source": [
    "# ages evenly distributed, but they are obvious groupings for the range\n",
    "f, ax = plt.subplots(figsize=(12,4))\n",
    "sns.distplot(dff.ages, color=\"b\", kde = False,  ax=ax)\n",
    "plt.show()"
   ]
  },
  {
   "cell_type": "code",
   "execution_count": 9,
   "metadata": {},
   "outputs": [],
   "source": [
    "# age target feature transformed to 5 ordinal age groups\n",
    "tfm_age = dict.fromkeys(list(dff.ages.unique()), 0)\n",
    "for i in list(dff.ages.unique()):\n",
    "    if all([i >= 28, i <= 32]): tfm_age[i] = 1\n",
    "    if all([i >= 33, i <= 37]): tfm_age[i] = 2\n",
    "    if all([i >= 38, i <= 42]): tfm_age[i] = 3    \n",
    "    if i >= 43: tfm_age[i] = 4\n",
    "        "
   ]
  },
  {
   "cell_type": "markdown",
   "metadata": {},
   "source": [
    "#### Occupation\n",
    "\n",
    "The inital distribution of the occupation feature is shown below with 33 unique values. To reduce that number, the [U.S. Bureau of Labor Statistics Standard Occupational Classifications](https://www.bls.gov/soc/) system was referenced. From ther the 33 occupation were were grouped into  Eight of the major occupational groups along with an \"other\" and \"student\" as listed below:\n",
    "\n",
    "1. Computer and Mathematical Occupations\n",
    "1. Business and Financial Operations Occupations\n",
    "2. Protective Service Occupations\n",
    "3. Legal Occupations\n",
    "4. Community and Social Service Occupations\n",
    "5. Educational Instruction and Library Occupations\n",
    "6. Arts, Design, Entertainment, Sports, and Media Occupations\n",
    "7. Architecture and Engineering Occupations\n",
    "8. other\n",
    "9. students\n"
   ]
  },
  {
   "cell_type": "code",
   "execution_count": 10,
   "metadata": {},
   "outputs": [
    {
     "data": {
      "image/png": "[encoded data removed]",
      "text/plain": [
       "<Figure size 432x720 with 1 Axes>"
      ]
     },
     "metadata": {
      "needs_background": "light"
     },
     "output_type": "display_data"
    }
   ],
   "source": [
    "# iniitial occupation distribution\n",
    "f, ax = plt.subplots(figsize=(6,10))\n",
    "sns.countplot(y=\"ocpns\", data=dff, ax=ax)\n",
    "plt.show()"
   ]
  },
  {
   "cell_type": "code",
   "execution_count": 11,
   "metadata": {},
   "outputs": [],
   "source": [
    "def group_upper(G):\n",
    "    dct = {}; uppers = ascii_uppercase[0:len(G)]\n",
    "    for (i,g) in enumerate(G):\n",
    "        for key in g:\n",
    "            dct[key] = uppers[i]\n",
    "    return(dct)\n",
    "\n",
    "ogrps = [['Technology', 'Internet'],['Consulting', 'Marketing', 'BusinessServices', 'Advertising', 'HumanResources',\n",
    "         'Accounting', 'Banking', 'InvestmentBanking'],['Military','LawEnforcement-Security'],['Law'],\n",
    "         ['Non-Profit','Religion', 'Government'], ['Education'], \n",
    "         ['Museums-Libraries', 'Arts', 'Communications-Media', 'Fashion', 'Sports-Recreation', 'Tourism', 'Publishing'],\n",
    "         ['Engineering', 'Architecture', 'Science'],\n",
    "         ['Transportation', 'Manufacturing','RealEstate', 'Telecommunications', 'Chemicals'],['Student']]\n",
    "\n",
    "\n",
    "tfm_ocpn = group_upper(ogrps)\n",
    "dff['ogrp'] = dff.ocpns.apply(lambda x: tfm_ocpn[x])"
   ]
  },
  {
   "cell_type": "code",
   "execution_count": 12,
   "metadata": {},
   "outputs": [
    {
     "data": {
      "image/png": "[encoded data removed]",
      "text/plain": [
       "<Figure size 432x216 with 1 Axes>"
      ]
     },
     "metadata": {
      "needs_background": "light"
     },
     "output_type": "display_data"
    }
   ],
   "source": [
    "# occupation distribution after grouping\n",
    "f, ax = plt.subplots(figsize=(6,3))\n",
    "sns.countplot(y=\"ogrp\", data=dff, ax=ax)\n",
    "plt.show()"
   ]
  },
  {
   "cell_type": "markdown",
   "metadata": {},
   "source": [
    "#### Sign\n",
    "Check the distribution of the \"sign\" feature.  All 12 of the all important horoscope signs are included and relatively evenly distributed. For the US and United Kingdom, births per calender month are fairly well distributed with the typical peak birth month of August having about 12% more births than the February.  "
   ]
  },
  {
   "cell_type": "code",
   "execution_count": 13,
   "metadata": {},
   "outputs": [
    {
     "data": {
      "image/png": "[encoded data removed]",
      "text/plain": [
       "<Figure size 432x216 with 1 Axes>"
      ]
     },
     "metadata": {
      "needs_background": "light"
     },
     "output_type": "display_data"
    }
   ],
   "source": [
    "f, ax = plt.subplots(figsize=(6,3))\n",
    "sns.countplot(y =\"signs\", data=dff, ax=ax)\n",
    "plt.show()"
   ]
  },
  {
   "cell_type": "markdown",
   "metadata": {},
   "source": [
    "#### Length of Post"
   ]
  },
  {
   "cell_type": "code",
   "execution_count": 14,
   "metadata": {},
   "outputs": [],
   "source": [
    "from scipy.stats import percentileofscore"
   ]
  },
  {
   "cell_type": "code",
   "execution_count": 15,
   "metadata": {},
   "outputs": [
    {
     "data": {
      "image/png": "[encoded data removed]",
      "text/plain": [
       "<Figure size 288x432 with 1 Axes>"
      ]
     },
     "metadata": {
      "needs_background": "light"
     },
     "output_type": "display_data"
    }
   ],
   "source": [
    "f, ax = plt.subplots(figsize=(4,6))\n",
    "sns.distplot(dfb.lnth, color=\"b\", kde = False,  ax=ax)\n",
    "plt.show()"
   ]
  },
  {
   "cell_type": "code",
   "execution_count": 16,
   "metadata": {},
   "outputs": [
    {
     "data": {
      "image/png": "[encoded data removed]",
      "text/plain": [
       "<Figure size 288x432 with 1 Axes>"
      ]
     },
     "metadata": {
      "needs_background": "light"
     },
     "output_type": "display_data"
    }
   ],
   "source": [
    "f, ax = plt.subplots(figsize=(4,6))\n",
    "sns.kdeplot(dfa.lnth, shade=True, color=\"r\", ax=ax)\n",
    "plt.show()"
   ]
  },
  {
   "cell_type": "markdown",
   "metadata": {},
   "source": [
    "#### Date of Post"
   ]
  },
  {
   "cell_type": "code",
   "execution_count": 17,
   "metadata": {},
   "outputs": [],
   "source": [
    "def group_ts(ts, pr):\n",
    "    assert all((pr[0].start_time <= ts, pr[len(pr) - 1].end_time >= ts))\n",
    "    for i in range(len(pr)):\n",
    "         if all((pr[i].start_time <= ts, pr[i].end_time >= ts)):\n",
    "                return i; break\n",
    "\n",
    "start = min([dfa.date.min(), dfb.date.min()])\n",
    "end   = max([dfa.date.max(), dfb.date.max()])                      \n",
    "pr = pd.period_range(start, end, freq='M')             "
   ]
  },
  {
   "cell_type": "markdown",
   "metadata": {},
   "source": [
    "### Processing Feature Sets"
   ]
  },
  {
   "cell_type": "code",
   "execution_count": 18,
   "metadata": {},
   "outputs": [],
   "source": [
    "# add the created features to DataFrames\n",
    "dfa['prd']  = dfa.date.apply(lambda x: group_ts(x,pr))\n",
    "dfa['ln_per'] = dfa.lnth.apply(lambda x: percentileofscore(dfa.lnth, x))\n",
    "dfb['agrp'] = dfb.age.apply(lambda x: tfm_age[x])\n",
    "dfb['ogrp'] = dfb.ocpn.apply(lambda x: tfm_ocpn[x])\n",
    "dfb['prd']  = dfb.date.apply(lambda x: group_ts(x,pr))\n",
    "dfb['ln_per'] = dfb.lnth.apply(lambda x: percentileofscore(dfb.lnth, x))"
   ]
  },
  {
   "cell_type": "code",
   "execution_count": 19,
   "metadata": {},
   "outputs": [
    {
     "data": {
      "text/html": [
       "<div>\n",
       "<style scoped>\n",
       "    .dataframe tbody tr th:only-of-type {\n",
       "        vertical-align: middle;\n",
       "    }\n",
       "\n",
       "    .dataframe tbody tr th {\n",
       "        vertical-align: top;\n",
       "    }\n",
       "\n",
       "    .dataframe thead th {\n",
       "        text-align: right;\n",
       "    }\n",
       "</style>\n",
       "<table border=\"1\" class=\"dataframe\">\n",
       "  <thead>\n",
       "    <tr style=\"text-align: right;\">\n",
       "      <th></th>\n",
       "      <th>blgr</th>\n",
       "      <th>date</th>\n",
       "      <th>post</th>\n",
       "      <th>lnth</th>\n",
       "      <th>prd</th>\n",
       "      <th>ln_per</th>\n",
       "    </tr>\n",
       "  </thead>\n",
       "  <tbody>\n",
       "    <tr>\n",
       "      <th>8553</th>\n",
       "      <td>J</td>\n",
       "      <td>2004-08-01</td>\n",
       "      <td>\\n\\n\\t \\n       urlLink CNN.com - Church bombs...</td>\n",
       "      <td>223</td>\n",
       "      <td>40</td>\n",
       "      <td>15.815611</td>\n",
       "    </tr>\n",
       "    <tr>\n",
       "      <th>8554</th>\n",
       "      <td>J</td>\n",
       "      <td>2004-08-01</td>\n",
       "      <td>\\n\\n\\t \\n       urlLink CNN.com - Poll: No 'bo...</td>\n",
       "      <td>1216</td>\n",
       "      <td>40</td>\n",
       "      <td>57.431643</td>\n",
       "    </tr>\n",
       "    <tr>\n",
       "      <th>8555</th>\n",
       "      <td>J</td>\n",
       "      <td>2004-08-01</td>\n",
       "      <td>\\n\\n\\t \\n      Welcome back from a pretty good...</td>\n",
       "      <td>301</td>\n",
       "      <td>40</td>\n",
       "      <td>21.325076</td>\n",
       "    </tr>\n",
       "    <tr>\n",
       "      <th>8556</th>\n",
       "      <td>J</td>\n",
       "      <td>2004-08-01</td>\n",
       "      <td>\\n\\n\\t \\n       urlLink National Sales Tax??  ...</td>\n",
       "      <td>169</td>\n",
       "      <td>40</td>\n",
       "      <td>11.538911</td>\n",
       "    </tr>\n",
       "    <tr>\n",
       "      <th>8557</th>\n",
       "      <td>J</td>\n",
       "      <td>2004-08-01</td>\n",
       "      <td>\\n\\n\\t \\n      Hey, I have a request for every...</td>\n",
       "      <td>1512</td>\n",
       "      <td>40</td>\n",
       "      <td>65.669549</td>\n",
       "    </tr>\n",
       "  </tbody>\n",
       "</table>\n",
       "</div>"
      ],
      "text/plain": [
       "     blgr       date                                               post  lnth  \\\n",
       "8553    J 2004-08-01  \\n\\n\\t \\n       urlLink CNN.com - Church bombs...   223   \n",
       "8554    J 2004-08-01  \\n\\n\\t \\n       urlLink CNN.com - Poll: No 'bo...  1216   \n",
       "8555    J 2004-08-01  \\n\\n\\t \\n      Welcome back from a pretty good...   301   \n",
       "8556    J 2004-08-01  \\n\\n\\t \\n       urlLink National Sales Tax??  ...   169   \n",
       "8557    J 2004-08-01  \\n\\n\\t \\n      Hey, I have a request for every...  1512   \n",
       "\n",
       "      prd     ln_per  \n",
       "8553   40  15.815611  \n",
       "8554   40  57.431643  \n",
       "8555   40  21.325076  \n",
       "8556   40  11.538911  \n",
       "8557   40  65.669549  "
      ]
     },
     "execution_count": 19,
     "metadata": {},
     "output_type": "execute_result"
    }
   ],
   "source": [
    "dfa.tail()"
   ]
  },
  {
   "cell_type": "markdown",
   "metadata": {},
   "source": [
    "####  Checking Feature Correlations \n",
    "\n",
    "Full disclusure, this was done after running the inital supervised [classifiers](#init).  \n",
    "\n",
    "There is a relatively high negative correlation between \"gender\" and \"sign\" reflecting some bias in the \"B\" data selection.  [Or does it](https://www.independent.co.uk/news/science/seasons-affect-sex-of-babies-study-reveals-592545.html)?    "
   ]
  },
  {
   "cell_type": "code",
   "execution_count": 20,
   "metadata": {},
   "outputs": [
    {
     "data": {
      "text/html": [
       "<div>\n",
       "<style scoped>\n",
       "    .dataframe tbody tr th:only-of-type {\n",
       "        vertical-align: middle;\n",
       "    }\n",
       "\n",
       "    .dataframe tbody tr th {\n",
       "        vertical-align: top;\n",
       "    }\n",
       "\n",
       "    .dataframe thead th {\n",
       "        text-align: right;\n",
       "    }\n",
       "</style>\n",
       "<table border=\"1\" class=\"dataframe\">\n",
       "  <thead>\n",
       "    <tr style=\"text-align: right;\">\n",
       "      <th></th>\n",
       "      <th>gndr</th>\n",
       "      <th>sign</th>\n",
       "      <th>agrp</th>\n",
       "      <th>ogrp</th>\n",
       "      <th>prd</th>\n",
       "      <th>ln_per</th>\n",
       "    </tr>\n",
       "  </thead>\n",
       "  <tbody>\n",
       "    <tr>\n",
       "      <th>gndr</th>\n",
       "      <td>1.000000</td>\n",
       "      <td>-0.191201</td>\n",
       "      <td>-0.049426</td>\n",
       "      <td>-0.085895</td>\n",
       "      <td>-0.043623</td>\n",
       "      <td>-0.158407</td>\n",
       "    </tr>\n",
       "    <tr>\n",
       "      <th>sign</th>\n",
       "      <td>-0.191201</td>\n",
       "      <td>1.000000</td>\n",
       "      <td>-0.061503</td>\n",
       "      <td>0.186825</td>\n",
       "      <td>-0.031210</td>\n",
       "      <td>0.139621</td>\n",
       "    </tr>\n",
       "    <tr>\n",
       "      <th>agrp</th>\n",
       "      <td>-0.049426</td>\n",
       "      <td>-0.061503</td>\n",
       "      <td>1.000000</td>\n",
       "      <td>0.029278</td>\n",
       "      <td>-0.105545</td>\n",
       "      <td>0.087469</td>\n",
       "    </tr>\n",
       "    <tr>\n",
       "      <th>ogrp</th>\n",
       "      <td>-0.085895</td>\n",
       "      <td>0.186825</td>\n",
       "      <td>0.029278</td>\n",
       "      <td>1.000000</td>\n",
       "      <td>-0.096949</td>\n",
       "      <td>0.046613</td>\n",
       "    </tr>\n",
       "    <tr>\n",
       "      <th>prd</th>\n",
       "      <td>-0.043623</td>\n",
       "      <td>-0.031210</td>\n",
       "      <td>-0.105545</td>\n",
       "      <td>-0.096949</td>\n",
       "      <td>1.000000</td>\n",
       "      <td>-0.020672</td>\n",
       "    </tr>\n",
       "    <tr>\n",
       "      <th>ln_per</th>\n",
       "      <td>-0.158407</td>\n",
       "      <td>0.139621</td>\n",
       "      <td>0.087469</td>\n",
       "      <td>0.046613</td>\n",
       "      <td>-0.020672</td>\n",
       "      <td>1.000000</td>\n",
       "    </tr>\n",
       "  </tbody>\n",
       "</table>\n",
       "</div>"
      ],
      "text/plain": [
       "            gndr      sign      agrp      ogrp       prd    ln_per\n",
       "gndr    1.000000 -0.191201 -0.049426 -0.085895 -0.043623 -0.158407\n",
       "sign   -0.191201  1.000000 -0.061503  0.186825 -0.031210  0.139621\n",
       "agrp   -0.049426 -0.061503  1.000000  0.029278 -0.105545  0.087469\n",
       "ogrp   -0.085895  0.186825  0.029278  1.000000 -0.096949  0.046613\n",
       "prd    -0.043623 -0.031210 -0.105545 -0.096949  1.000000 -0.020672\n",
       "ln_per -0.158407  0.139621  0.087469  0.046613 -0.020672  1.000000"
      ]
     },
     "execution_count": 20,
     "metadata": {},
     "output_type": "execute_result"
    }
   ],
   "source": [
    "# correlation matrix of feature set B non-NLP features\n",
    "dfx = dfb.drop(['age', 'ocpn', 'date', 'lnth', 'post'], axis=1)\n",
    "d_sign = {val:i for (i, val) in enumerate(dfb.sign.unique())}\n",
    "d_ogrp = {val:i for (i, val) in enumerate(dfb.ogrp.unique())}  \n",
    "dfx.gndr = np.where(dfx.gndr == 'male', 1, 0)\n",
    "dfx.ogrp = dfx.ogrp.apply(lambda x: d_ogrp[x])\n",
    "dfx.sign = dfx.sign.apply(lambda x: d_sign[x])\n",
    "dfx.corr()"
   ]
  },
  {
   "cell_type": "code",
   "execution_count": 21,
   "metadata": {
    "scrolled": false
   },
   "outputs": [
    {
     "data": {
      "image/png": "[encoded data removed]",
      "text/plain": [
       "<Figure size 504x432 with 2 Axes>"
      ]
     },
     "metadata": {
      "needs_background": "light"
     },
     "output_type": "display_data"
    }
   ],
   "source": [
    "# heat map of correlation matrix, note vmax changed from 1 to 0.25\n",
    "f, ax = plt.subplots(figsize=(7,6))\n",
    "sns.heatmap(dfx.corr().abs(), vmin=0, vmax=.25, ax=ax)\n",
    "plt.show()"
   ]
  },
  {
   "cell_type": "code",
   "execution_count": 22,
   "metadata": {},
   "outputs": [
    {
     "data": {
      "text/html": [
       "<div>\n",
       "<style scoped>\n",
       "    .dataframe tbody tr th:only-of-type {\n",
       "        vertical-align: middle;\n",
       "    }\n",
       "\n",
       "    .dataframe tbody tr th {\n",
       "        vertical-align: top;\n",
       "    }\n",
       "\n",
       "    .dataframe thead th {\n",
       "        text-align: right;\n",
       "    }\n",
       "</style>\n",
       "<table border=\"1\" class=\"dataframe\">\n",
       "  <thead>\n",
       "    <tr style=\"text-align: right;\">\n",
       "      <th></th>\n",
       "      <th>blgr</th>\n",
       "      <th>prd</th>\n",
       "      <th>ln_per</th>\n",
       "    </tr>\n",
       "  </thead>\n",
       "  <tbody>\n",
       "    <tr>\n",
       "      <th>blgr</th>\n",
       "      <td>1.00000</td>\n",
       "      <td>0.239620</td>\n",
       "      <td>-0.155860</td>\n",
       "    </tr>\n",
       "    <tr>\n",
       "      <th>prd</th>\n",
       "      <td>0.23962</td>\n",
       "      <td>1.000000</td>\n",
       "      <td>0.196815</td>\n",
       "    </tr>\n",
       "    <tr>\n",
       "      <th>ln_per</th>\n",
       "      <td>-0.15586</td>\n",
       "      <td>0.196815</td>\n",
       "      <td>1.000000</td>\n",
       "    </tr>\n",
       "  </tbody>\n",
       "</table>\n",
       "</div>"
      ],
      "text/plain": [
       "           blgr       prd    ln_per\n",
       "blgr    1.00000  0.239620 -0.155860\n",
       "prd     0.23962  1.000000  0.196815\n",
       "ln_per -0.15586  0.196815  1.000000"
      ]
     },
     "execution_count": 22,
     "metadata": {},
     "output_type": "execute_result"
    }
   ],
   "source": [
    "# correlation matrix of feature set A blogger, period, length percentile feature\n",
    "dfz = dfa.drop(['date', 'lnth', 'post'], axis=1)\n",
    "d_blgr = {val:i for (i, val) in enumerate(dfa.blgr.unique())}  \n",
    "dfz.blgr = dfz.blgr.apply(lambda x: d_blgr[x])\n",
    "dfz.corr()"
   ]
  },
  {
   "cell_type": "markdown",
   "metadata": {},
   "source": [
    "#### NLP Features <a name=\"feat\"></a>\n",
    "- Used bag of words and tf-idf methods to create features.\n",
    "- sklearn CountVectorizer fit and transform for the bag of words sparse matrix and then TfidfTransformer to transform bag of words to the tf-idf sparse matrix.  "
   ]
  },
  {
   "cell_type": "code",
   "execution_count": 23,
   "metadata": {},
   "outputs": [],
   "source": [
    "import nltk\n",
    "from nltk.corpus import stopwords\n",
    "import spacy\n",
    "from spacy.lang.en import English\n",
    "nlp = spacy.load(\"en_core_web_lg\")"
   ]
  },
  {
   "cell_type": "code",
   "execution_count": 24,
   "metadata": {},
   "outputs": [],
   "source": [
    "#tokenize, lemmaize, use both spaCy and ntlk stops\n",
    "def lemma_post(doc):\n",
    "    stops = stopwords.words('english') + ['urllink', 'urlLink']\n",
    "    A = [d for d in doc if all([d.is_alpha, not d.is_stop])]\n",
    "    B = [a for a in A if a.lemma_ not in stops]\n",
    "    return  [b.lemma_ if all([b.pos_ == 'PROPN', not b.is_upper]) else b.lemma_.lower() for b in B]\n",
    "\n",
    "assert lemma_post(nlp('urlLink www.dmbirc.org')) == []\n",
    "assert lemma_post(nlp('Tom is FAT')) == ['Tom', 'fat']"
   ]
  },
  {
   "cell_type": "code",
   "execution_count": 25,
   "metadata": {},
   "outputs": [],
   "source": [
    "dfa['lemma'] = dfa.post.apply(lambda x: lemma_post(nlp(x)))"
   ]
  },
  {
   "cell_type": "markdown",
   "metadata": {},
   "source": [
    "#### Naming Convention for feature sets\n",
    "\n",
    "Below is information for the various data sets used for modeling:\n",
    "\n",
    "| Sample Set | Target Feature  | Target Number | NLP Feature | Other Features | Extension |\n",
    "|-------     | -------         | --------------| ------       | ----------- | ----|\n",
    " A  | blogger | 1 | bow| yes | _a1wy\n",
    " A  | blogger | 1 | bow| no | _a1wn\n",
    " A  | blogger | 1 | lsa | yes | _a1sy \n",
    " B | none | 0 | lsa | yes | _b0sy\n",
    " B  | gender  | 2 | lsa | yes | _b2sy\n",
    " B  | age group  | 3  | bo |  fst_b4 \n",
    " B  | occupation group | 4 | lsa |  fst_b5 \n",
    " B  | sign  | 5  | bow  |  fst_b6 "
   ]
  },
  {
   "cell_type": "code",
   "execution_count": 26,
   "metadata": {},
   "outputs": [
    {
     "data": {
      "text/html": [
       "<div>\n",
       "<style scoped>\n",
       "    .dataframe tbody tr th:only-of-type {\n",
       "        vertical-align: middle;\n",
       "    }\n",
       "\n",
       "    .dataframe tbody tr th {\n",
       "        vertical-align: top;\n",
       "    }\n",
       "\n",
       "    .dataframe thead th {\n",
       "        text-align: right;\n",
       "    }\n",
       "</style>\n",
       "<table border=\"1\" class=\"dataframe\">\n",
       "  <thead>\n",
       "    <tr style=\"text-align: right;\">\n",
       "      <th></th>\n",
       "      <th>blgr</th>\n",
       "      <th>date</th>\n",
       "      <th>post</th>\n",
       "      <th>lnth</th>\n",
       "      <th>prd</th>\n",
       "      <th>ln_per</th>\n",
       "      <th>lemma</th>\n",
       "    </tr>\n",
       "  </thead>\n",
       "  <tbody>\n",
       "    <tr>\n",
       "      <th>8556</th>\n",
       "      <td>J</td>\n",
       "      <td>2004-08-01</td>\n",
       "      <td>\\n\\n\\t \\n       urlLink National Sales Tax??  ...</td>\n",
       "      <td>169</td>\n",
       "      <td>40</td>\n",
       "      <td>11.538911</td>\n",
       "      <td>[National, Sales, Tax, oh, let, true, Bush, ge...</td>\n",
       "    </tr>\n",
       "    <tr>\n",
       "      <th>8557</th>\n",
       "      <td>J</td>\n",
       "      <td>2004-08-01</td>\n",
       "      <td>\\n\\n\\t \\n      Hey, I have a request for every...</td>\n",
       "      <td>1512</td>\n",
       "      <td>40</td>\n",
       "      <td>65.669549</td>\n",
       "      <td>[hey, request, follow, page, answer, question,...</td>\n",
       "    </tr>\n",
       "  </tbody>\n",
       "</table>\n",
       "</div>"
      ],
      "text/plain": [
       "     blgr       date                                               post  lnth  \\\n",
       "8556    J 2004-08-01  \\n\\n\\t \\n       urlLink National Sales Tax??  ...   169   \n",
       "8557    J 2004-08-01  \\n\\n\\t \\n      Hey, I have a request for every...  1512   \n",
       "\n",
       "      prd     ln_per                                              lemma  \n",
       "8556   40  11.538911  [National, Sales, Tax, oh, let, true, Bush, ge...  \n",
       "8557   40  65.669549  [hey, request, follow, page, answer, question,...  "
      ]
     },
     "execution_count": 26,
     "metadata": {},
     "output_type": "execute_result"
    }
   ],
   "source": [
    "dfa.tail(2)"
   ]
  },
  {
   "cell_type": "code",
   "execution_count": 27,
   "metadata": {},
   "outputs": [],
   "source": [
    "from sklearn.feature_extraction.text import CountVectorizer,TfidfVectorizer, TfidfTransformer\n",
    "from sklearn.decomposition import PCA, TruncatedSVD, SparsePCA\n",
    "from sklearn.base import TransformerMixin\n",
    "from sklearn.pipeline import Pipeline, FeatureUnion, make_pipeline, make_union\n",
    "from sklearn.model_selection import train_test_split\n",
    "from sklearn.impute import SimpleImputer\n",
    "from sklearn.compose import ColumnTransformer\n",
    "from sklearn.preprocessing import OrdinalEncoder, OneHotEncoder, KBinsDiscretizer, MinMaxScaler\n",
    "from sklearn.decomposition import LatentDirichletAllocation as LDA"
   ]
  },
  {
   "cell_type": "code",
   "execution_count": 28,
   "metadata": {},
   "outputs": [],
   "source": [
    "def lsa_tfr():\n",
    "    pipe = make_pipeline(TfidfVectorizer(lowercase=False, min_df=0.05, max_df=0.50), \n",
    "                     TruncatedSVD(n_components=100, random_state=5))\n",
    "    return ColumnTransformer(sparse_threshold=0, transformers=[('lsa', pipe, 'post')])"
   ]
  },
  {
   "cell_type": "code",
   "execution_count": 29,
   "metadata": {},
   "outputs": [],
   "source": [
    "def bow_tfr():\n",
    "    pipe = make_pipeline(CountVectorizer(lowercase=False, min_df=0.05, max_df=0.50), \n",
    "                     TruncatedSVD(n_components=100, random_state=3)) \n",
    "    return ColumnTransformer(sparse_threshold=0, transformers=[('bow', pipe, 'post')])"
   ]
  },
  {
   "cell_type": "code",
   "execution_count": 30,
   "metadata": {},
   "outputs": [],
   "source": [
    "# create \n",
    "def feature_sets(df, cats, nums, name):\n",
    "    tfr1 = ColumnTransformer(transformers=[('cat', OneHotEncoder(categories='auto'), cats)], sparse_threshold=0)\n",
    "    tfr2 = ColumnTransformer(transformers=[('num', MinMaxScaler(), nums)], sparse_threshold=0)\n",
    "    if name == 'bow': tfr = bow_tfr()\n",
    "    else:             tfr = lsa_tfr()\n",
    "    union = make_union(tfr, tfr1, tfr2)\n",
    "    \n",
    "    return union.fit_transform(df)"
   ]
  },
  {
   "cell_type": "code",
   "execution_count": 35,
   "metadata": {},
   "outputs": [],
   "source": [
    "# create \n",
    "def B_feature_sets(df,trgt):\n",
    "    cats = ['gndr', 'agrp', 'ogrp', 'sign', 'prd'];  nums = ['ln_per']  \n",
    "    cats.remove(trgt)\n",
    "    tfr1 = ColumnTransformer(transformers=[('cat', OneHotEncoder(categories='auto'), cats)], sparse_threshold=0)\n",
    "    tfr2 = ColumnTransformer(transformers=[('num', MinMaxScaler(), nums)], sparse_threshold=0)\n",
    "    tfr = lsa_tfr()\n",
    "    union = make_union(tfr, tfr1, tfr2)\n",
    "    \n",
    "    return union.fit_transform(df)"
   ]
  },
  {
   "cell_type": "code",
   "execution_count": 32,
   "metadata": {},
   "outputs": [],
   "source": [
    "# modeling data from feature set A\n",
    "cats = ['prd']; nums = ['ln_per']\n",
    "prm_a1wy = {'df': dfa, 'cats':cats, 'nums':nums, 'name':'bow'}\n",
    "X_a1wy = feature_sets(**prm_a1wy)\n",
    "y_a1 = dfa.blgr\n",
    "\n",
    "prm_a1sy = {'df': dfa, 'cats':cats, 'nums':nums, 'name':'lsa'}\n",
    "X_a1sy = feature_sets(**prm_a1sy)\n",
    "X_a1sn = lsa_tfr().fit_transform(dfa)"
   ]
  },
  {
   "cell_type": "code",
   "execution_count": 33,
   "metadata": {},
   "outputs": [],
   "source": [
    "cats = ['gndr', 'agrp', 'ogrp', 'sign', 'prd'];  nums = ['ln_per'] \n",
    "X_bs_all = feature_sets(dfb, cats, nums, 'lsa')"
   ]
  },
  {
   "cell_type": "code",
   "execution_count": 36,
   "metadata": {},
   "outputs": [],
   "source": [
    "trgts = ['gndr', 'agrp', 'ogrp', 'sign']\n",
    "X2, X3, X4, X5 = (B_feature_sets(dfb,trgt) for trgt in trgts)"
   ]
  },
  {
   "cell_type": "markdown",
   "metadata": {},
   "source": [
    "### Clustering\n",
    "\n",
    "The results of clustering analysis were surprising, both good and bad.  Admittedly, I not do completely understand the results.  "
   ]
  },
  {
   "cell_type": "code",
   "execution_count": 37,
   "metadata": {},
   "outputs": [],
   "source": [
    "from sklearn.cluster import AffinityPropagation, KMeans, MiniBatchKMeans\n",
    "from sklearn.metrics import adjusted_rand_score, homogeneity_score, completeness_score"
   ]
  },
  {
   "cell_type": "markdown",
   "metadata": {},
   "source": [
    "#### Clustering Sample Set \"A\"\n",
    "A clustering result satisfies completeness if all the data points that are members of a given class are elements of the same cluster.\n",
    "A clustering result satisfies homogeneity if all of its clusters contain only data points which are members of a single class.\n"
   ]
  },
  {
   "cell_type": "code",
   "execution_count": 38,
   "metadata": {},
   "outputs": [
    {
     "data": {
      "text/html": [
       "<div>\n",
       "<style scoped>\n",
       "    .dataframe tbody tr th:only-of-type {\n",
       "        vertical-align: middle;\n",
       "    }\n",
       "\n",
       "    .dataframe tbody tr th {\n",
       "        vertical-align: top;\n",
       "    }\n",
       "\n",
       "    .dataframe thead th {\n",
       "        text-align: right;\n",
       "    }\n",
       "</style>\n",
       "<table border=\"1\" class=\"dataframe\">\n",
       "  <thead>\n",
       "    <tr style=\"text-align: right;\">\n",
       "      <th>cluster</th>\n",
       "      <th>0</th>\n",
       "      <th>1</th>\n",
       "      <th>2</th>\n",
       "      <th>3</th>\n",
       "      <th>4</th>\n",
       "      <th>5</th>\n",
       "      <th>6</th>\n",
       "      <th>7</th>\n",
       "      <th>8</th>\n",
       "      <th>9</th>\n",
       "    </tr>\n",
       "    <tr>\n",
       "      <th>bloggers</th>\n",
       "      <th></th>\n",
       "      <th></th>\n",
       "      <th></th>\n",
       "      <th></th>\n",
       "      <th></th>\n",
       "      <th></th>\n",
       "      <th></th>\n",
       "      <th></th>\n",
       "      <th></th>\n",
       "      <th></th>\n",
       "    </tr>\n",
       "  </thead>\n",
       "  <tbody>\n",
       "    <tr>\n",
       "      <th>A</th>\n",
       "      <td>70</td>\n",
       "      <td>62</td>\n",
       "      <td>53</td>\n",
       "      <td>437</td>\n",
       "      <td>60</td>\n",
       "      <td>69</td>\n",
       "      <td>303</td>\n",
       "      <td>74</td>\n",
       "      <td>147</td>\n",
       "      <td>62</td>\n",
       "    </tr>\n",
       "    <tr>\n",
       "      <th>B</th>\n",
       "      <td>6</td>\n",
       "      <td>6</td>\n",
       "      <td>0</td>\n",
       "      <td>77</td>\n",
       "      <td>0</td>\n",
       "      <td>9</td>\n",
       "      <td>3</td>\n",
       "      <td>4</td>\n",
       "      <td>4</td>\n",
       "      <td>4</td>\n",
       "    </tr>\n",
       "    <tr>\n",
       "      <th>C</th>\n",
       "      <td>43</td>\n",
       "      <td>78</td>\n",
       "      <td>117</td>\n",
       "      <td>45</td>\n",
       "      <td>32</td>\n",
       "      <td>135</td>\n",
       "      <td>6</td>\n",
       "      <td>125</td>\n",
       "      <td>124</td>\n",
       "      <td>27</td>\n",
       "    </tr>\n",
       "    <tr>\n",
       "      <th>D</th>\n",
       "      <td>0</td>\n",
       "      <td>31</td>\n",
       "      <td>11</td>\n",
       "      <td>382</td>\n",
       "      <td>0</td>\n",
       "      <td>0</td>\n",
       "      <td>694</td>\n",
       "      <td>0</td>\n",
       "      <td>8</td>\n",
       "      <td>0</td>\n",
       "    </tr>\n",
       "    <tr>\n",
       "      <th>E</th>\n",
       "      <td>33</td>\n",
       "      <td>14</td>\n",
       "      <td>7</td>\n",
       "      <td>416</td>\n",
       "      <td>100</td>\n",
       "      <td>34</td>\n",
       "      <td>252</td>\n",
       "      <td>15</td>\n",
       "      <td>42</td>\n",
       "      <td>75</td>\n",
       "    </tr>\n",
       "    <tr>\n",
       "      <th>F</th>\n",
       "      <td>0</td>\n",
       "      <td>0</td>\n",
       "      <td>80</td>\n",
       "      <td>2</td>\n",
       "      <td>0</td>\n",
       "      <td>0</td>\n",
       "      <td>37</td>\n",
       "      <td>0</td>\n",
       "      <td>0</td>\n",
       "      <td>0</td>\n",
       "    </tr>\n",
       "    <tr>\n",
       "      <th>G</th>\n",
       "      <td>56</td>\n",
       "      <td>40</td>\n",
       "      <td>30</td>\n",
       "      <td>351</td>\n",
       "      <td>66</td>\n",
       "      <td>52</td>\n",
       "      <td>870</td>\n",
       "      <td>43</td>\n",
       "      <td>70</td>\n",
       "      <td>38</td>\n",
       "    </tr>\n",
       "    <tr>\n",
       "      <th>H</th>\n",
       "      <td>47</td>\n",
       "      <td>97</td>\n",
       "      <td>50</td>\n",
       "      <td>138</td>\n",
       "      <td>44</td>\n",
       "      <td>47</td>\n",
       "      <td>56</td>\n",
       "      <td>68</td>\n",
       "      <td>110</td>\n",
       "      <td>59</td>\n",
       "    </tr>\n",
       "    <tr>\n",
       "      <th>I</th>\n",
       "      <td>60</td>\n",
       "      <td>90</td>\n",
       "      <td>80</td>\n",
       "      <td>192</td>\n",
       "      <td>44</td>\n",
       "      <td>73</td>\n",
       "      <td>40</td>\n",
       "      <td>62</td>\n",
       "      <td>113</td>\n",
       "      <td>44</td>\n",
       "    </tr>\n",
       "    <tr>\n",
       "      <th>J</th>\n",
       "      <td>100</td>\n",
       "      <td>100</td>\n",
       "      <td>100</td>\n",
       "      <td>77</td>\n",
       "      <td>100</td>\n",
       "      <td>100</td>\n",
       "      <td>111</td>\n",
       "      <td>100</td>\n",
       "      <td>186</td>\n",
       "      <td>39</td>\n",
       "    </tr>\n",
       "  </tbody>\n",
       "</table>\n",
       "</div>"
      ],
      "text/plain": [
       "cluster     0    1    2    3    4    5    6    7    8   9\n",
       "bloggers                                                 \n",
       "A          70   62   53  437   60   69  303   74  147  62\n",
       "B           6    6    0   77    0    9    3    4    4   4\n",
       "C          43   78  117   45   32  135    6  125  124  27\n",
       "D           0   31   11  382    0    0  694    0    8   0\n",
       "E          33   14    7  416  100   34  252   15   42  75\n",
       "F           0    0   80    2    0    0   37    0    0   0\n",
       "G          56   40   30  351   66   52  870   43   70  38\n",
       "H          47   97   50  138   44   47   56   68  110  59\n",
       "I          60   90   80  192   44   73   40   62  113  44\n",
       "J         100  100  100   77  100  100  111  100  186  39"
      ]
     },
     "execution_count": 38,
     "metadata": {},
     "output_type": "execute_result"
    }
   ],
   "source": [
    "# clustering sample set \"A\" with n=10\n",
    "pred_a1sy_10 = KMeans(n_clusters=10, random_state=42).fit_predict(X_a1sy)\n",
    "rslt_a1sy_10 = pd.crosstab(y_a1, pred_a1sy_10, rownames=['bloggers'], colnames=['cluster'])\n",
    "rslt_a1sy_10"
   ]
  },
  {
   "cell_type": "code",
   "execution_count": 39,
   "metadata": {},
   "outputs": [],
   "source": [
    "def cluster_scores(true, pred):\n",
    "    return [adjusted_rand_score(true,pred), \n",
    "            homogeneity_score(true,pred),\n",
    "            completeness_score(true,pred)]"
   ]
  },
  {
   "cell_type": "code",
   "execution_count": 41,
   "metadata": {},
   "outputs": [
    {
     "ename": "NameError",
     "evalue": "name 'pred_a1sy_05' is not defined",
     "output_type": "error",
     "traceback": [
      "\u001b[1;31m---------------------------------------------------------------------------\u001b[0m",
      "\u001b[1;31mNameError\u001b[0m                                 Traceback (most recent call last)",
      "\u001b[1;32m<ipython-input-41-25ffbab59030>\u001b[0m in \u001b[0;36m<module>\u001b[1;34m\u001b[0m\n\u001b[0;32m      1\u001b[0m \u001b[0mpred1\u001b[0m \u001b[1;33m=\u001b[0m \u001b[0mAffinityPropagation\u001b[0m\u001b[1;33m(\u001b[0m\u001b[1;33m)\u001b[0m\u001b[1;33m.\u001b[0m\u001b[0mfit_predict\u001b[0m\u001b[1;33m(\u001b[0m\u001b[0mX_a1sy\u001b[0m\u001b[1;33m)\u001b[0m\u001b[1;33m\u001b[0m\u001b[1;33m\u001b[0m\u001b[0m\n\u001b[1;32m----> 2\u001b[1;33m \u001b[0mrslt1\u001b[0m\u001b[1;33m=\u001b[0m \u001b[0mpd\u001b[0m\u001b[1;33m.\u001b[0m\u001b[0mcrosstab\u001b[0m\u001b[1;33m(\u001b[0m\u001b[0my_a1\u001b[0m\u001b[1;33m,\u001b[0m \u001b[0mpred_a1sy_05\u001b[0m\u001b[1;33m,\u001b[0m \u001b[0mrownames\u001b[0m\u001b[1;33m=\u001b[0m\u001b[1;33m[\u001b[0m\u001b[1;34m'bloggers'\u001b[0m\u001b[1;33m]\u001b[0m\u001b[1;33m,\u001b[0m \u001b[0mcolnames\u001b[0m\u001b[1;33m=\u001b[0m\u001b[1;33m[\u001b[0m\u001b[1;34m'cluster'\u001b[0m\u001b[1;33m]\u001b[0m\u001b[1;33m)\u001b[0m\u001b[1;33m\u001b[0m\u001b[1;33m\u001b[0m\u001b[0m\n\u001b[0m",
      "\u001b[1;31mNameError\u001b[0m: name 'pred_a1sy_05' is not defined"
     ]
    }
   ],
   "source": [
    "pred1 = AffinityPropagation().fit_predict(X_a1sy)\n",
    "rslt1= pd.crosstab(y_a1, pred_a1sy_05, rownames=['bloggers'], colnames=['cluster'])"
   ]
  },
  {
   "cell_type": "code",
   "execution_count": null,
   "metadata": {
    "scrolled": true
   },
   "outputs": [],
   "source": [
    "rslt1"
   ]
  },
  {
   "cell_type": "code",
   "execution_count": null,
   "metadata": {},
   "outputs": [],
   "source": [
    "# clustering sample set \"A\" with n=5\n",
    "pred_a1sy_05 = KMeans(n_clusters=5, random_state=42).fit_predict(X_a1sy)\n",
    "rslt_a1sy_05 = pd.crosstab(y_a1, pred_a1sy_05, rownames=['bloggers'], colnames=['cluster'])\n",
    "rslt_a1sy_05"
   ]
  },
  {
   "cell_type": "code",
   "execution_count": null,
   "metadata": {},
   "outputs": [],
   "source": [
    "pd.set_option('precision', 4)\n",
    "pd.DataFrame([cluster_scores(y_a1, pred_a1sy_10), cluster_scores(y_a1, pred1), cluster_scores(y_a1, pred_a1sy_05)], \n",
    "             index=['Kmeans_n10', 'AfinityPropagation', 'Kmeans_n05'],\n",
    "             columns=['Adjusted_Rand_Index', 'Homogeneity_Score', 'Completeness_Score'])"
   ]
  },
  {
   "cell_type": "code",
   "execution_count": null,
   "metadata": {},
   "outputs": [],
   "source": [
    "# cross tabs for k means n=5 and Afinity Propgations are the same?\n",
    "assert rslt1.all().all() == rslt_a1sy_05.all().all()"
   ]
  },
  {
   "cell_type": "markdown",
   "metadata": {},
   "source": [
    "#### Data Set B Clustering"
   ]
  },
  {
   "cell_type": "code",
   "execution_count": null,
   "metadata": {},
   "outputs": [],
   "source": [
    "trgts = ['gndr', 'agrp', 'ogrp', 'sign']\n",
    "b_xs  = [X2, X3, X4, X5]\n",
    "nums  = [2, 4, 10, 12]"
   ]
  },
  {
   "cell_type": "code",
   "execution_count": null,
   "metadata": {},
   "outputs": [],
   "source": [
    "def B_Kmeans(X,trgt, nums):\n",
    "    pred = KMeans(n_clusters=nums, random_state=5).fit_predict(X)\n",
    "    ctab = pd.crosstab(dfb[trgt], pred, rownames=[trgt], colnames=['cluster'])\n",
    "    scrs = cluster_scores(dfb[trgt], pred)\n",
    "    return (ctab,scrs)"
   ]
  },
  {
   "cell_type": "code",
   "execution_count": 88,
   "metadata": {},
   "outputs": [],
   "source": [
    "results_n_count = [B_Kmeans(b_xs[i], trgts[i], nums[i]) for i in range(4)]"
   ]
  },
  {
   "cell_type": "code",
   "execution_count": 94,
   "metadata": {},
   "outputs": [],
   "source": [
    "results_n_5 = [B_Kmeans(b_xs[i], trgts[i], 5) for i in range(4)]"
   ]
  },
  {
   "cell_type": "code",
   "execution_count": 92,
   "metadata": {},
   "outputs": [
    {
     "data": {
      "text/html": [
       "<div>\n",
       "<style scoped>\n",
       "    .dataframe tbody tr th:only-of-type {\n",
       "        vertical-align: middle;\n",
       "    }\n",
       "\n",
       "    .dataframe tbody tr th {\n",
       "        vertical-align: top;\n",
       "    }\n",
       "\n",
       "    .dataframe thead th {\n",
       "        text-align: right;\n",
       "    }\n",
       "</style>\n",
       "<table border=\"1\" class=\"dataframe\">\n",
       "  <thead>\n",
       "    <tr style=\"text-align: right;\">\n",
       "      <th></th>\n",
       "      <th>Adjusted_Rand_Index</th>\n",
       "      <th>Homogeneity_Score</th>\n",
       "      <th>Completeness_Score</th>\n",
       "    </tr>\n",
       "  </thead>\n",
       "  <tbody>\n",
       "    <tr>\n",
       "      <th>gndr</th>\n",
       "      <td>0.0145</td>\n",
       "      <td>0.0025</td>\n",
       "      <td>0.0043</td>\n",
       "    </tr>\n",
       "    <tr>\n",
       "      <th>agrp</th>\n",
       "      <td>0.0012</td>\n",
       "      <td>0.0035</td>\n",
       "      <td>0.0028</td>\n",
       "    </tr>\n",
       "    <tr>\n",
       "      <th>ogrp</th>\n",
       "      <td>0.0094</td>\n",
       "      <td>0.0137</td>\n",
       "      <td>0.0244</td>\n",
       "    </tr>\n",
       "    <tr>\n",
       "      <th>sign</th>\n",
       "      <td>0.0174</td>\n",
       "      <td>0.0227</td>\n",
       "      <td>0.0396</td>\n",
       "    </tr>\n",
       "  </tbody>\n",
       "</table>\n",
       "</div>"
      ],
      "text/plain": [
       "      Adjusted_Rand_Index  Homogeneity_Score  Completeness_Score\n",
       "gndr               0.0145             0.0025              0.0043\n",
       "agrp               0.0012             0.0035              0.0028\n",
       "ogrp               0.0094             0.0137              0.0244\n",
       "sign               0.0174             0.0227              0.0396"
      ]
     },
     "execution_count": 92,
     "metadata": {},
     "output_type": "execute_result"
    }
   ],
   "source": [
    "pd.DataFrame([scrs for (ctab, scrs) in results], index=trgts,\n",
    "             columns=['Adjusted_Rand_Index', 'Homogeneity_Score', 'Completeness_Score'])"
   ]
  },
  {
   "cell_type": "code",
   "execution_count": 95,
   "metadata": {},
   "outputs": [
    {
     "data": {
      "text/html": [
       "<div>\n",
       "<style scoped>\n",
       "    .dataframe tbody tr th:only-of-type {\n",
       "        vertical-align: middle;\n",
       "    }\n",
       "\n",
       "    .dataframe tbody tr th {\n",
       "        vertical-align: top;\n",
       "    }\n",
       "\n",
       "    .dataframe thead th {\n",
       "        text-align: right;\n",
       "    }\n",
       "</style>\n",
       "<table border=\"1\" class=\"dataframe\">\n",
       "  <thead>\n",
       "    <tr style=\"text-align: right;\">\n",
       "      <th></th>\n",
       "      <th>Adjusted_Rand_Index</th>\n",
       "      <th>Homogeneity_Score</th>\n",
       "      <th>Completeness_Score</th>\n",
       "    </tr>\n",
       "  </thead>\n",
       "  <tbody>\n",
       "    <tr>\n",
       "      <th>gndr</th>\n",
       "      <td>0.0410</td>\n",
       "      <td>0.0160</td>\n",
       "      <td>0.0119</td>\n",
       "    </tr>\n",
       "    <tr>\n",
       "      <th>agrp</th>\n",
       "      <td>0.0049</td>\n",
       "      <td>0.0054</td>\n",
       "      <td>0.0039</td>\n",
       "    </tr>\n",
       "    <tr>\n",
       "      <th>ogrp</th>\n",
       "      <td>0.0073</td>\n",
       "      <td>0.0081</td>\n",
       "      <td>0.0185</td>\n",
       "    </tr>\n",
       "    <tr>\n",
       "      <th>sign</th>\n",
       "      <td>0.0098</td>\n",
       "      <td>0.0114</td>\n",
       "      <td>0.0303</td>\n",
       "    </tr>\n",
       "  </tbody>\n",
       "</table>\n",
       "</div>"
      ],
      "text/plain": [
       "      Adjusted_Rand_Index  Homogeneity_Score  Completeness_Score\n",
       "gndr               0.0410             0.0160              0.0119\n",
       "agrp               0.0049             0.0054              0.0039\n",
       "ogrp               0.0073             0.0081              0.0185\n",
       "sign               0.0098             0.0114              0.0303"
      ]
     },
     "execution_count": 95,
     "metadata": {},
     "output_type": "execute_result"
    }
   ],
   "source": [
    "pd.DataFrame([scrs for (ctab, scrs) in results_n_5], index=trgts,\n",
    "             columns=['Adjusted_Rand_Index', 'Homogeneity_Score', 'Completeness_Score'])"
   ]
  },
  {
   "cell_type": "code",
   "execution_count": 91,
   "metadata": {},
   "outputs": [
    {
     "data": {
      "text/plain": [
       "[0.014523831751572108, 0.0025111299451281814, 0.004305457279354526]"
      ]
     },
     "execution_count": 91,
     "metadata": {},
     "output_type": "execute_result"
    }
   ],
   "source": [
    "results[0][1]"
   ]
  },
  {
   "cell_type": "code",
   "execution_count": 90,
   "metadata": {},
   "outputs": [
    {
     "data": {
      "text/html": [
       "<div>\n",
       "<style scoped>\n",
       "    .dataframe tbody tr th:only-of-type {\n",
       "        vertical-align: middle;\n",
       "    }\n",
       "\n",
       "    .dataframe tbody tr th {\n",
       "        vertical-align: top;\n",
       "    }\n",
       "\n",
       "    .dataframe thead th {\n",
       "        text-align: right;\n",
       "    }\n",
       "</style>\n",
       "<table border=\"1\" class=\"dataframe\">\n",
       "  <thead>\n",
       "    <tr style=\"text-align: right;\">\n",
       "      <th>cluster</th>\n",
       "      <th>0</th>\n",
       "      <th>1</th>\n",
       "      <th>2</th>\n",
       "      <th>3</th>\n",
       "    </tr>\n",
       "    <tr>\n",
       "      <th>agrp</th>\n",
       "      <th></th>\n",
       "      <th></th>\n",
       "      <th></th>\n",
       "      <th></th>\n",
       "    </tr>\n",
       "  </thead>\n",
       "  <tbody>\n",
       "    <tr>\n",
       "      <th>0</th>\n",
       "      <td>17</td>\n",
       "      <td>2386</td>\n",
       "      <td>243</td>\n",
       "      <td>901</td>\n",
       "    </tr>\n",
       "    <tr>\n",
       "      <th>2</th>\n",
       "      <td>4</td>\n",
       "      <td>448</td>\n",
       "      <td>41</td>\n",
       "      <td>124</td>\n",
       "    </tr>\n",
       "    <tr>\n",
       "      <th>3</th>\n",
       "      <td>1</td>\n",
       "      <td>78</td>\n",
       "      <td>13</td>\n",
       "      <td>41</td>\n",
       "    </tr>\n",
       "    <tr>\n",
       "      <th>4</th>\n",
       "      <td>2</td>\n",
       "      <td>82</td>\n",
       "      <td>14</td>\n",
       "      <td>43</td>\n",
       "    </tr>\n",
       "  </tbody>\n",
       "</table>\n",
       "</div>"
      ],
      "text/plain": [
       "cluster   0     1    2    3\n",
       "agrp                       \n",
       "0        17  2386  243  901\n",
       "2         4   448   41  124\n",
       "3         1    78   13   41\n",
       "4         2    82   14   43"
      ]
     },
     "execution_count": 90,
     "metadata": {},
     "output_type": "execute_result"
    }
   ],
   "source": [
    "results[1][0]"
   ]
  },
  {
   "cell_type": "code",
   "execution_count": 98,
   "metadata": {},
   "outputs": [],
   "source": [
    "pred_bs_all = KMeans(n_clusters=5, random_state=42).fit_predict(X_bs_all)"
   ]
  },
  {
   "cell_type": "code",
   "execution_count": 99,
   "metadata": {},
   "outputs": [
    {
     "data": {
      "text/html": [
       "<div>\n",
       "<style scoped>\n",
       "    .dataframe tbody tr th:only-of-type {\n",
       "        vertical-align: middle;\n",
       "    }\n",
       "\n",
       "    .dataframe tbody tr th {\n",
       "        vertical-align: top;\n",
       "    }\n",
       "\n",
       "    .dataframe thead th {\n",
       "        text-align: right;\n",
       "    }\n",
       "</style>\n",
       "<table border=\"1\" class=\"dataframe\">\n",
       "  <thead>\n",
       "    <tr style=\"text-align: right;\">\n",
       "      <th>cluster</th>\n",
       "      <th>0</th>\n",
       "      <th>1</th>\n",
       "      <th>2</th>\n",
       "      <th>3</th>\n",
       "      <th>4</th>\n",
       "    </tr>\n",
       "    <tr>\n",
       "      <th>Gender</th>\n",
       "      <th></th>\n",
       "      <th></th>\n",
       "      <th></th>\n",
       "      <th></th>\n",
       "      <th></th>\n",
       "    </tr>\n",
       "  </thead>\n",
       "  <tbody>\n",
       "    <tr>\n",
       "      <th>female</th>\n",
       "      <td>1720</td>\n",
       "      <td>0</td>\n",
       "      <td>0</td>\n",
       "      <td>0</td>\n",
       "      <td>0</td>\n",
       "    </tr>\n",
       "    <tr>\n",
       "      <th>male</th>\n",
       "      <td>0</td>\n",
       "      <td>613</td>\n",
       "      <td>748</td>\n",
       "      <td>674</td>\n",
       "      <td>683</td>\n",
       "    </tr>\n",
       "  </tbody>\n",
       "</table>\n",
       "</div>"
      ],
      "text/plain": [
       "cluster     0    1    2    3    4\n",
       "Gender                           \n",
       "female   1720    0    0    0    0\n",
       "male        0  613  748  674  683"
      ]
     },
     "execution_count": 99,
     "metadata": {},
     "output_type": "execute_result"
    }
   ],
   "source": [
    "pd.crosstab([dfb.gndr], pred_bs_all, rownames=['Gender'], colnames=['cluster'])"
   ]
  },
  {
   "cell_type": "code",
   "execution_count": 101,
   "metadata": {},
   "outputs": [
    {
     "data": {
      "text/plain": [
       "[0.45228892045175895, 0.9999999999999997, 0.4406473526824152]"
      ]
     },
     "execution_count": 101,
     "metadata": {},
     "output_type": "execute_result"
    }
   ],
   "source": [
    "cluster_scores(dfb.gndr, pred_bs_all)"
   ]
  },
  {
   "cell_type": "code",
   "execution_count": 189,
   "metadata": {},
   "outputs": [
    {
     "data": {
      "text/html": [
       "<div>\n",
       "<style scoped>\n",
       "    .dataframe tbody tr th:only-of-type {\n",
       "        vertical-align: middle;\n",
       "    }\n",
       "\n",
       "    .dataframe tbody tr th {\n",
       "        vertical-align: top;\n",
       "    }\n",
       "\n",
       "    .dataframe thead th {\n",
       "        text-align: right;\n",
       "    }\n",
       "</style>\n",
       "<table border=\"1\" class=\"dataframe\">\n",
       "  <thead>\n",
       "    <tr style=\"text-align: right;\">\n",
       "      <th>cluster</th>\n",
       "      <th>0</th>\n",
       "      <th>1</th>\n",
       "      <th>2</th>\n",
       "      <th>3</th>\n",
       "      <th>4</th>\n",
       "    </tr>\n",
       "    <tr>\n",
       "      <th>Age Group</th>\n",
       "      <th></th>\n",
       "      <th></th>\n",
       "      <th></th>\n",
       "      <th></th>\n",
       "      <th></th>\n",
       "    </tr>\n",
       "  </thead>\n",
       "  <tbody>\n",
       "    <tr>\n",
       "      <th>0</th>\n",
       "      <td>467</td>\n",
       "      <td>1320</td>\n",
       "      <td>671</td>\n",
       "      <td>532</td>\n",
       "      <td>480</td>\n",
       "    </tr>\n",
       "    <tr>\n",
       "      <th>2</th>\n",
       "      <td>119</td>\n",
       "      <td>270</td>\n",
       "      <td>64</td>\n",
       "      <td>79</td>\n",
       "      <td>83</td>\n",
       "    </tr>\n",
       "    <tr>\n",
       "      <th>3</th>\n",
       "      <td>33</td>\n",
       "      <td>61</td>\n",
       "      <td>2</td>\n",
       "      <td>20</td>\n",
       "      <td>17</td>\n",
       "    </tr>\n",
       "    <tr>\n",
       "      <th>4</th>\n",
       "      <td>9</td>\n",
       "      <td>60</td>\n",
       "      <td>27</td>\n",
       "      <td>23</td>\n",
       "      <td>22</td>\n",
       "    </tr>\n",
       "  </tbody>\n",
       "</table>\n",
       "</div>"
      ],
      "text/plain": [
       "cluster      0     1    2    3    4\n",
       "Age Group                          \n",
       "0          467  1320  671  532  480\n",
       "2          119   270   64   79   83\n",
       "3           33    61    2   20   17\n",
       "4            9    60   27   23   22"
      ]
     },
     "execution_count": 189,
     "metadata": {},
     "output_type": "execute_result"
    }
   ],
   "source": [
    "pd.crosstab([dfb.agrp], pred_b0sy, rownames=['Age Group'], colnames=['cluster'])"
   ]
  },
  {
   "cell_type": "code",
   "execution_count": 190,
   "metadata": {},
   "outputs": [
    {
     "data": {
      "text/html": [
       "<div>\n",
       "<style scoped>\n",
       "    .dataframe tbody tr th:only-of-type {\n",
       "        vertical-align: middle;\n",
       "    }\n",
       "\n",
       "    .dataframe tbody tr th {\n",
       "        vertical-align: top;\n",
       "    }\n",
       "\n",
       "    .dataframe thead th {\n",
       "        text-align: right;\n",
       "    }\n",
       "</style>\n",
       "<table border=\"1\" class=\"dataframe\">\n",
       "  <thead>\n",
       "    <tr style=\"text-align: right;\">\n",
       "      <th>cluster</th>\n",
       "      <th>0</th>\n",
       "      <th>1</th>\n",
       "      <th>2</th>\n",
       "      <th>3</th>\n",
       "      <th>4</th>\n",
       "    </tr>\n",
       "    <tr>\n",
       "      <th>Occupation Group</th>\n",
       "      <th></th>\n",
       "      <th></th>\n",
       "      <th></th>\n",
       "      <th></th>\n",
       "      <th></th>\n",
       "    </tr>\n",
       "  </thead>\n",
       "  <tbody>\n",
       "    <tr>\n",
       "      <th>A</th>\n",
       "      <td>166</td>\n",
       "      <td>164</td>\n",
       "      <td>125</td>\n",
       "      <td>207</td>\n",
       "      <td>130</td>\n",
       "    </tr>\n",
       "    <tr>\n",
       "      <th>B</th>\n",
       "      <td>89</td>\n",
       "      <td>278</td>\n",
       "      <td>150</td>\n",
       "      <td>60</td>\n",
       "      <td>39</td>\n",
       "    </tr>\n",
       "    <tr>\n",
       "      <th>C</th>\n",
       "      <td>5</td>\n",
       "      <td>22</td>\n",
       "      <td>5</td>\n",
       "      <td>22</td>\n",
       "      <td>43</td>\n",
       "    </tr>\n",
       "    <tr>\n",
       "      <th>D</th>\n",
       "      <td>10</td>\n",
       "      <td>25</td>\n",
       "      <td>53</td>\n",
       "      <td>0</td>\n",
       "      <td>17</td>\n",
       "    </tr>\n",
       "    <tr>\n",
       "      <th>E</th>\n",
       "      <td>77</td>\n",
       "      <td>74</td>\n",
       "      <td>14</td>\n",
       "      <td>20</td>\n",
       "      <td>80</td>\n",
       "    </tr>\n",
       "    <tr>\n",
       "      <th>F</th>\n",
       "      <td>53</td>\n",
       "      <td>315</td>\n",
       "      <td>185</td>\n",
       "      <td>61</td>\n",
       "      <td>37</td>\n",
       "    </tr>\n",
       "    <tr>\n",
       "      <th>G</th>\n",
       "      <td>60</td>\n",
       "      <td>577</td>\n",
       "      <td>92</td>\n",
       "      <td>41</td>\n",
       "      <td>29</td>\n",
       "    </tr>\n",
       "    <tr>\n",
       "      <th>H</th>\n",
       "      <td>148</td>\n",
       "      <td>68</td>\n",
       "      <td>31</td>\n",
       "      <td>61</td>\n",
       "      <td>145</td>\n",
       "    </tr>\n",
       "    <tr>\n",
       "      <th>I</th>\n",
       "      <td>15</td>\n",
       "      <td>29</td>\n",
       "      <td>5</td>\n",
       "      <td>36</td>\n",
       "      <td>50</td>\n",
       "    </tr>\n",
       "    <tr>\n",
       "      <th>J</th>\n",
       "      <td>5</td>\n",
       "      <td>159</td>\n",
       "      <td>104</td>\n",
       "      <td>146</td>\n",
       "      <td>32</td>\n",
       "    </tr>\n",
       "  </tbody>\n",
       "</table>\n",
       "</div>"
      ],
      "text/plain": [
       "cluster             0    1    2    3    4\n",
       "Occupation Group                         \n",
       "A                 166  164  125  207  130\n",
       "B                  89  278  150   60   39\n",
       "C                   5   22    5   22   43\n",
       "D                  10   25   53    0   17\n",
       "E                  77   74   14   20   80\n",
       "F                  53  315  185   61   37\n",
       "G                  60  577   92   41   29\n",
       "H                 148   68   31   61  145\n",
       "I                  15   29    5   36   50\n",
       "J                   5  159  104  146   32"
      ]
     },
     "execution_count": 190,
     "metadata": {},
     "output_type": "execute_result"
    }
   ],
   "source": [
    "pd.crosstab([dfb.ogrp], pred_b0sy, rownames=['Occupation Group'], colnames=['cluster'])"
   ]
  },
  {
   "cell_type": "code",
   "execution_count": 191,
   "metadata": {},
   "outputs": [
    {
     "data": {
      "text/html": [
       "<div>\n",
       "<style scoped>\n",
       "    .dataframe tbody tr th:only-of-type {\n",
       "        vertical-align: middle;\n",
       "    }\n",
       "\n",
       "    .dataframe tbody tr th {\n",
       "        vertical-align: top;\n",
       "    }\n",
       "\n",
       "    .dataframe thead th {\n",
       "        text-align: right;\n",
       "    }\n",
       "</style>\n",
       "<table border=\"1\" class=\"dataframe\">\n",
       "  <thead>\n",
       "    <tr style=\"text-align: right;\">\n",
       "      <th>cluster</th>\n",
       "      <th>0</th>\n",
       "      <th>1</th>\n",
       "      <th>2</th>\n",
       "      <th>3</th>\n",
       "      <th>4</th>\n",
       "    </tr>\n",
       "    <tr>\n",
       "      <th>horoscope sign</th>\n",
       "      <th></th>\n",
       "      <th></th>\n",
       "      <th></th>\n",
       "      <th></th>\n",
       "      <th></th>\n",
       "    </tr>\n",
       "  </thead>\n",
       "  <tbody>\n",
       "    <tr>\n",
       "      <th>Aquarius</th>\n",
       "      <td>187</td>\n",
       "      <td>73</td>\n",
       "      <td>9</td>\n",
       "      <td>37</td>\n",
       "      <td>60</td>\n",
       "    </tr>\n",
       "    <tr>\n",
       "      <th>Aries</th>\n",
       "      <td>15</td>\n",
       "      <td>175</td>\n",
       "      <td>87</td>\n",
       "      <td>48</td>\n",
       "      <td>75</td>\n",
       "    </tr>\n",
       "    <tr>\n",
       "      <th>Cancer</th>\n",
       "      <td>32</td>\n",
       "      <td>254</td>\n",
       "      <td>158</td>\n",
       "      <td>58</td>\n",
       "      <td>102</td>\n",
       "    </tr>\n",
       "    <tr>\n",
       "      <th>Capricorn</th>\n",
       "      <td>22</td>\n",
       "      <td>121</td>\n",
       "      <td>54</td>\n",
       "      <td>90</td>\n",
       "      <td>25</td>\n",
       "    </tr>\n",
       "    <tr>\n",
       "      <th>Gemini</th>\n",
       "      <td>14</td>\n",
       "      <td>202</td>\n",
       "      <td>73</td>\n",
       "      <td>76</td>\n",
       "      <td>66</td>\n",
       "    </tr>\n",
       "    <tr>\n",
       "      <th>Leo</th>\n",
       "      <td>55</td>\n",
       "      <td>132</td>\n",
       "      <td>30</td>\n",
       "      <td>17</td>\n",
       "      <td>22</td>\n",
       "    </tr>\n",
       "    <tr>\n",
       "      <th>Libra</th>\n",
       "      <td>57</td>\n",
       "      <td>34</td>\n",
       "      <td>165</td>\n",
       "      <td>41</td>\n",
       "      <td>95</td>\n",
       "    </tr>\n",
       "    <tr>\n",
       "      <th>Pisces</th>\n",
       "      <td>52</td>\n",
       "      <td>156</td>\n",
       "      <td>19</td>\n",
       "      <td>55</td>\n",
       "      <td>8</td>\n",
       "    </tr>\n",
       "    <tr>\n",
       "      <th>Sagittarius</th>\n",
       "      <td>45</td>\n",
       "      <td>96</td>\n",
       "      <td>34</td>\n",
       "      <td>34</td>\n",
       "      <td>31</td>\n",
       "    </tr>\n",
       "    <tr>\n",
       "      <th>Scorpio</th>\n",
       "      <td>39</td>\n",
       "      <td>239</td>\n",
       "      <td>46</td>\n",
       "      <td>55</td>\n",
       "      <td>21</td>\n",
       "    </tr>\n",
       "    <tr>\n",
       "      <th>Taurus</th>\n",
       "      <td>28</td>\n",
       "      <td>119</td>\n",
       "      <td>12</td>\n",
       "      <td>30</td>\n",
       "      <td>61</td>\n",
       "    </tr>\n",
       "    <tr>\n",
       "      <th>Virgo</th>\n",
       "      <td>82</td>\n",
       "      <td>110</td>\n",
       "      <td>77</td>\n",
       "      <td>113</td>\n",
       "      <td>36</td>\n",
       "    </tr>\n",
       "  </tbody>\n",
       "</table>\n",
       "</div>"
      ],
      "text/plain": [
       "cluster           0    1    2    3    4\n",
       "horoscope sign                         \n",
       "Aquarius        187   73    9   37   60\n",
       "Aries            15  175   87   48   75\n",
       "Cancer           32  254  158   58  102\n",
       "Capricorn        22  121   54   90   25\n",
       "Gemini           14  202   73   76   66\n",
       "Leo              55  132   30   17   22\n",
       "Libra            57   34  165   41   95\n",
       "Pisces           52  156   19   55    8\n",
       "Sagittarius      45   96   34   34   31\n",
       "Scorpio          39  239   46   55   21\n",
       "Taurus           28  119   12   30   61\n",
       "Virgo            82  110   77  113   36"
      ]
     },
     "execution_count": 191,
     "metadata": {},
     "output_type": "execute_result"
    }
   ],
   "source": [
    "pd.crosstab([dfb.sign], pred_b0sy, rownames=['horoscope sign'], colnames=['cluster'])"
   ]
  },
  {
   "cell_type": "markdown",
   "metadata": {},
   "source": [
    "### Neural Network Model \n",
    "\n",
    "A neural network model where token vectors are calculated using a CNN. The vectors are mean pooled and used as features in a feed-forward network. This architecture is usually less accurate than the ensemble, but runs faster.\n",
    "\n",
    "As I prefer to used spaCy for the nlp processing, I am specifically using the CNN model in the the spaCy module as opposed to SKlearn.  While it took a while to understand and there was extra processing to format the data, the CNN runs much leaner and faster.  \n",
    "\n",
    "As neural network modeling is a resource hog, I made the assumption that I would have to reduce the dataset to sucessfully.  After a two sample test to verify the code, I sampled the \"A\" datafame to reduce it to only 100 rows.  As I discovered a significant difference in the number of posts by my 10 bloggers, I \"weighted\" post samples to obtain close to the same number of samples for each blogger.  \n",
    "\n",
    "Again because of resource and processing concerns, I start with only 10 iterations for the neural network with the idea I would increase the number of samples and CNN iterations as necessary.  It wasn't."
   ]
  },
  {
   "cell_type": "code",
   "execution_count": 86,
   "metadata": {},
   "outputs": [
    {
     "data": {
      "text/html": [
       "<div>\n",
       "<style scoped>\n",
       "    .dataframe tbody tr th:only-of-type {\n",
       "        vertical-align: middle;\n",
       "    }\n",
       "\n",
       "    .dataframe tbody tr th {\n",
       "        vertical-align: top;\n",
       "    }\n",
       "\n",
       "    .dataframe thead th {\n",
       "        text-align: right;\n",
       "    }\n",
       "</style>\n",
       "<table border=\"1\" class=\"dataframe\">\n",
       "  <thead>\n",
       "    <tr style=\"text-align: right;\">\n",
       "      <th>blgr</th>\n",
       "      <th>A</th>\n",
       "      <th>B</th>\n",
       "      <th>C</th>\n",
       "      <th>D</th>\n",
       "      <th>E</th>\n",
       "      <th>F</th>\n",
       "      <th>G</th>\n",
       "      <th>H</th>\n",
       "      <th>I</th>\n",
       "      <th>J</th>\n",
       "    </tr>\n",
       "  </thead>\n",
       "  <tbody>\n",
       "    <tr>\n",
       "      <th>dataset_count</th>\n",
       "      <td>1337</td>\n",
       "      <td>113</td>\n",
       "      <td>732</td>\n",
       "      <td>1126</td>\n",
       "      <td>988</td>\n",
       "      <td>119</td>\n",
       "      <td>1616</td>\n",
       "      <td>716</td>\n",
       "      <td>798</td>\n",
       "      <td>1013</td>\n",
       "    </tr>\n",
       "    <tr>\n",
       "      <th>sample_count</th>\n",
       "      <td>12</td>\n",
       "      <td>11</td>\n",
       "      <td>9</td>\n",
       "      <td>9</td>\n",
       "      <td>9</td>\n",
       "      <td>9</td>\n",
       "      <td>10</td>\n",
       "      <td>10</td>\n",
       "      <td>8</td>\n",
       "      <td>13</td>\n",
       "    </tr>\n",
       "  </tbody>\n",
       "</table>\n",
       "</div>"
      ],
      "text/plain": [
       "blgr              A    B    C     D    E    F     G    H    I     J\n",
       "dataset_count  1337  113  732  1126  988  119  1616  716  798  1013\n",
       "sample_count     12   11    9     9    9    9    10   10    8    13"
      ]
     },
     "execution_count": 86,
     "metadata": {},
     "output_type": "execute_result"
    }
   ],
   "source": [
    "weight = {key: 1 /   (dfa.groupby('blgr').blgr.count()[key] / len(dfa)) for key in dfa.blgr.unique()}\n",
    "dfa['weight'] = dfa.blgr.apply(lambda x: weight[x])\n",
    "dfs = dfa.sample(n=100, weights='weight', random_state=19)\n",
    "dfs.index = range(len(dfs))\n",
    "pd.DataFrame([dfa.groupby('blgr').blgr.count(), dfs.groupby('blgr').blgr.count()], index=['dataset_count', 'sample_count'])"
   ]
  },
  {
   "cell_type": "code",
   "execution_count": 59,
   "metadata": {},
   "outputs": [],
   "source": [
    "# format needed for labels for spaCy classification\n",
    "def make_cats_dict(label):\n",
    "    dct = dict.fromkeys(list(dfa.blgr.unique()), False)\n",
    "    dct[label] = True   \n",
    "    return dct\n",
    "# split into train / test\n",
    "def split_data(data, split=0.8):\n",
    "    split = int(len(data) * split)\n",
    "    return (data[:split]), (data[split:])"
   ]
  },
  {
   "cell_type": "code",
   "execution_count": 96,
   "metadata": {},
   "outputs": [],
   "source": [
    "targets = dfs.blgr.tolist()\n",
    "texts   = dfs.post.tolist()"
   ]
  },
  {
   "cell_type": "code",
   "execution_count": 97,
   "metadata": {},
   "outputs": [],
   "source": [
    "# data the way spacy wants as [(text, label),....] \n",
    "labels = [make_cats_dict(target) for target in targets]\n",
    "data = [z for z in zip(texts, labels)]\n",
    "train = data[:80]\n",
    "test  = data[80:]\n",
    "# remove the labels from the test data\n",
    "test = [txt for (txt,lbl) in test]"
   ]
  },
  {
   "cell_type": "code",
   "execution_count": 62,
   "metadata": {},
   "outputs": [],
   "source": [
    "nlp = spacy.load(\"en_core_web_lg\")"
   ]
  },
  {
   "cell_type": "code",
   "execution_count": 63,
   "metadata": {},
   "outputs": [],
   "source": [
    "# TextCategorizer into pipe\n",
    "if 'textcat' not in nlp.pipe_names:\n",
    "    textcat = nlp.create_pipe('textcat')\n",
    "    nlp.add_pipe(textcat, last=True)\n",
    "# otherwise, get it, so we can add labels to it\n",
    "else:\n",
    "    textcat = nlp.get_pipe('textcat')\n",
    "# add labels\n",
    "for label in dfa.blgr.unique():\n",
    "    textcat.add_label(label)"
   ]
  },
  {
   "cell_type": "code",
   "execution_count": 68,
   "metadata": {},
   "outputs": [
    {
     "name": "stdout",
     "output_type": "stream",
     "text": [
      "{'textcat': 119.35421710833907}\n",
      "{'textcat': 68.04373112134635}\n",
      "{'textcat': 51.14327340386808}\n",
      "{'textcat': 31.73543624157901}\n",
      "{'textcat': 17.870730082388036}\n",
      "{'textcat': 14.491041358589428}\n",
      "{'textcat': 10.146654829175532}\n",
      "{'textcat': 5.547130366798228}\n",
      "{'textcat': 4.180729283333676}\n",
      "{'textcat': 2.701634184393697}\n"
     ]
    }
   ],
   "source": [
    "# train textcat only\n",
    "other_pipes = [pipe for pipe in nlp.pipe_names if pipe != 'textcat']\n",
    "with nlp.disable_pipes(*other_pipes):  # only train textcat\n",
    "    nlp.begin_training()\n",
    "    # Loop for 10 iterations\n",
    "    for itn in range(10):\n",
    "        random.shuffle(train)\n",
    "        losses = {}\n",
    "        for batch in spacy.util.minibatch(data, size=1):\n",
    "            texts = [nlp(text) for text, entities in batch]\n",
    "            annotations = [{\"cats\": entities} for text, entities in batch]\n",
    "            nlp.update(texts, annotations, losses=losses)\n",
    "        #tracking the model progessing by printing losses\n",
    "        if itn % 1 == 0:\n",
    "            print(losses)"
   ]
  },
  {
   "cell_type": "markdown",
   "metadata": {},
   "source": [
    "The output of the losses above looks good.  And the results below even better to the point that I could hand calculate the accuracy.  \n",
    "\n",
    "CNN accuracy = 1.00\n",
    "\n",
    "As I was dubious of the results, I did re-confirm all the data and results. The lowest probabiity for any one versus rest classifcation was 0.9807.   "
   ]
  },
  {
   "cell_type": "code",
   "execution_count": 100,
   "metadata": {},
   "outputs": [
    {
     "data": {
      "text/plain": [
       "100"
      ]
     },
     "execution_count": 100,
     "metadata": {},
     "output_type": "execute_result"
    }
   ],
   "source": [
    "len(predicts)"
   ]
  },
  {
   "cell_type": "code",
   "execution_count": 101,
   "metadata": {},
   "outputs": [
    {
     "data": {
      "text/html": [
       "<div>\n",
       "<style scoped>\n",
       "    .dataframe tbody tr th:only-of-type {\n",
       "        vertical-align: middle;\n",
       "    }\n",
       "\n",
       "    .dataframe tbody tr th {\n",
       "        vertical-align: top;\n",
       "    }\n",
       "\n",
       "    .dataframe thead th {\n",
       "        text-align: right;\n",
       "    }\n",
       "</style>\n",
       "<table border=\"1\" class=\"dataframe\">\n",
       "  <thead>\n",
       "    <tr style=\"text-align: right;\">\n",
       "      <th></th>\n",
       "      <th>0</th>\n",
       "      <th>1</th>\n",
       "      <th>2</th>\n",
       "      <th>3</th>\n",
       "      <th>4</th>\n",
       "      <th>5</th>\n",
       "      <th>6</th>\n",
       "      <th>7</th>\n",
       "      <th>8</th>\n",
       "      <th>9</th>\n",
       "      <th>10</th>\n",
       "      <th>11</th>\n",
       "      <th>12</th>\n",
       "      <th>13</th>\n",
       "      <th>14</th>\n",
       "      <th>15</th>\n",
       "      <th>16</th>\n",
       "      <th>17</th>\n",
       "      <th>18</th>\n",
       "      <th>19</th>\n",
       "    </tr>\n",
       "  </thead>\n",
       "  <tbody>\n",
       "    <tr>\n",
       "      <th>0</th>\n",
       "      <td>G</td>\n",
       "      <td>H</td>\n",
       "      <td>E</td>\n",
       "      <td>J</td>\n",
       "      <td>A</td>\n",
       "      <td>E</td>\n",
       "      <td>C</td>\n",
       "      <td>D</td>\n",
       "      <td>H</td>\n",
       "      <td>D</td>\n",
       "      <td>G</td>\n",
       "      <td>J</td>\n",
       "      <td>E</td>\n",
       "      <td>A</td>\n",
       "      <td>A</td>\n",
       "      <td>C</td>\n",
       "      <td>C</td>\n",
       "      <td>D</td>\n",
       "      <td>I</td>\n",
       "      <td>A</td>\n",
       "    </tr>\n",
       "    <tr>\n",
       "      <th>1</th>\n",
       "      <td>G</td>\n",
       "      <td>H</td>\n",
       "      <td>E</td>\n",
       "      <td>J</td>\n",
       "      <td>A</td>\n",
       "      <td>E</td>\n",
       "      <td>C</td>\n",
       "      <td>D</td>\n",
       "      <td>H</td>\n",
       "      <td>D</td>\n",
       "      <td>G</td>\n",
       "      <td>J</td>\n",
       "      <td>E</td>\n",
       "      <td>A</td>\n",
       "      <td>A</td>\n",
       "      <td>C</td>\n",
       "      <td>C</td>\n",
       "      <td>D</td>\n",
       "      <td>I</td>\n",
       "      <td>A</td>\n",
       "    </tr>\n",
       "  </tbody>\n",
       "</table>\n",
       "</div>"
      ],
      "text/plain": [
       "  0  1  2  3  4  5  6  7  8  9  10 11 12 13 14 15 16 17 18 19\n",
       "0  G  H  E  J  A  E  C  D  H  D  G  J  E  A  A  C  C  D  I  A\n",
       "1  G  H  E  J  A  E  C  D  H  D  G  J  E  A  A  C  C  D  I  A"
      ]
     },
     "execution_count": 101,
     "metadata": {},
     "output_type": "execute_result"
    }
   ],
   "source": [
    "cats = [(nlp(text).cats) for text in test] \n",
    "# this is no very pythonesque, but it works \n",
    "predicts = [x[0] for x in [[k for k,v in cat.items() if v == max(cat.values())] for cat in cats]]\n",
    "pd.DataFrame([predicts, dfs.blgr[80:]])"
   ]
  },
  {
   "cell_type": "markdown",
   "metadata": {},
   "source": [
    "### Initial Supervised Classifiers <a name=\"classify\"></a>"
   ]
  },
  {
   "cell_type": "code",
   "execution_count": 31,
   "metadata": {},
   "outputs": [],
   "source": [
    "from sklearn.linear_model import LogisticRegression, SGDClassifier, LogisticRegressionCV\n",
    "from sklearn.ensemble import RandomForestClassifier\n",
    "from sklearn.svm import LinearSVC\n",
    "from sklearn.model_selection import cross_validate"
   ]
  },
  {
   "cell_type": "markdown",
   "metadata": {},
   "source": [
    "#### Sample A Classification \n",
    "The results below of the initial modeling included:\n",
    "  - Higher mean accuracy score with LSA features than \"bag of words\" features\n",
    "  - An initial post \"length\" feature had had neglibile impact on the classifier accuracy.  Transforming the \"length\" to a percentile score created a worthwhile feature.  \n",
    "  - The \"period\" and \"length_percentile\" features in combination improved the mean accuracy score\n",
    "  \n",
    "I was very impressed with my period feature specifcally after the initial classification.  That was because I had neglected to check for feature corrleations before I "
   ]
  },
  {
   "cell_type": "code",
   "execution_count": 32,
   "metadata": {},
   "outputs": [],
   "source": [
    "# check four different classifiers \n",
    "clf1 = LogisticRegression(solver='lbfgs', multi_class='auto', max_iter=500)\n",
    "clf2 = RandomForestClassifier(n_estimators=20, random_state=2)\n",
    "clf3 = LinearSVC(random_state=3, max_iter=1500)\n",
    "clf4 = SGDClassifier()\n",
    "clfs = [clf1, clf2, clf3, clf4]"
   ]
  },
  {
   "cell_type": "code",
   "execution_count": 33,
   "metadata": {},
   "outputs": [
    {
     "name": "stderr",
     "output_type": "stream",
     "text": [
      "C:\\Users\\chuck\\Anaconda3\\lib\\site-packages\\sklearn\\svm\\base.py:929: ConvergenceWarning: Liblinear failed to converge, increase the number of iterations.\n",
      "  \"the number of iterations.\", ConvergenceWarning)\n"
     ]
    },
    {
     "data": {
      "text/html": [
       "<div>\n",
       "<style scoped>\n",
       "    .dataframe tbody tr th:only-of-type {\n",
       "        vertical-align: middle;\n",
       "    }\n",
       "\n",
       "    .dataframe tbody tr th {\n",
       "        vertical-align: top;\n",
       "    }\n",
       "\n",
       "    .dataframe thead th {\n",
       "        text-align: right;\n",
       "    }\n",
       "</style>\n",
       "<table border=\"1\" class=\"dataframe\">\n",
       "  <thead>\n",
       "    <tr style=\"text-align: right;\">\n",
       "      <th></th>\n",
       "      <th>classifier</th>\n",
       "      <th>accuracy</th>\n",
       "    </tr>\n",
       "  </thead>\n",
       "  <tbody>\n",
       "    <tr>\n",
       "      <th>0</th>\n",
       "      <td>LogisticRegression(C=1.0, class_weight=None, d...</td>\n",
       "      <td>0.7034</td>\n",
       "    </tr>\n",
       "    <tr>\n",
       "      <th>1</th>\n",
       "      <td>(DecisionTreeClassifier(class_weight=None, cri...</td>\n",
       "      <td>0.503517</td>\n",
       "    </tr>\n",
       "    <tr>\n",
       "      <th>2</th>\n",
       "      <td>LinearSVC(C=1.0, class_weight=None, dual=True,...</td>\n",
       "      <td>0.694607</td>\n",
       "    </tr>\n",
       "    <tr>\n",
       "      <th>3</th>\n",
       "      <td>SGDClassifier(alpha=0.0001, average=False, cla...</td>\n",
       "      <td>0.666471</td>\n",
       "    </tr>\n",
       "  </tbody>\n",
       "</table>\n",
       "</div>"
      ],
      "text/plain": [
       "                                          classifier  accuracy\n",
       "0  LogisticRegression(C=1.0, class_weight=None, d...    0.7034\n",
       "1  (DecisionTreeClassifier(class_weight=None, cri...  0.503517\n",
       "2  LinearSVC(C=1.0, class_weight=None, dual=True,...  0.694607\n",
       "3  SGDClassifier(alpha=0.0001, average=False, cla...  0.666471"
      ]
     },
     "execution_count": 33,
     "metadata": {},
     "output_type": "execute_result"
    }
   ],
   "source": [
    "# A classification with bag of words\n",
    "y = y_a1; X = X_a1wy\n",
    "X_trn, X_tst, y_trn, y_tst = train_test_split(X, y,  test_size=0.2, random_state=9)\n",
    "scrs = [clf.fit(X_trn, y_trn).score(X_tst, y_tst) for clf in clfs]\n",
    "pd.DataFrame([clfs,scrs], index=['classifier', 'accuracy']).T"
   ]
  },
  {
   "cell_type": "code",
   "execution_count": 57,
   "metadata": {},
   "outputs": [
    {
     "data": {
      "text/html": [
       "<div>\n",
       "<style scoped>\n",
       "    .dataframe tbody tr th:only-of-type {\n",
       "        vertical-align: middle;\n",
       "    }\n",
       "\n",
       "    .dataframe tbody tr th {\n",
       "        vertical-align: top;\n",
       "    }\n",
       "\n",
       "    .dataframe thead th {\n",
       "        text-align: right;\n",
       "    }\n",
       "</style>\n",
       "<table border=\"1\" class=\"dataframe\">\n",
       "  <thead>\n",
       "    <tr style=\"text-align: right;\">\n",
       "      <th></th>\n",
       "      <th>classifier</th>\n",
       "      <th>accuracy</th>\n",
       "    </tr>\n",
       "  </thead>\n",
       "  <tbody>\n",
       "    <tr>\n",
       "      <th>0</th>\n",
       "      <td>LogisticRegression(C=1.0, class_weight=None, d...</td>\n",
       "      <td>0.708675</td>\n",
       "    </tr>\n",
       "    <tr>\n",
       "      <th>1</th>\n",
       "      <td>(DecisionTreeClassifier(class_weight=None, cri...</td>\n",
       "      <td>0.554513</td>\n",
       "    </tr>\n",
       "    <tr>\n",
       "      <th>2</th>\n",
       "      <td>LinearSVC(C=1.0, class_weight=None, dual=True,...</td>\n",
       "      <td>0.709261</td>\n",
       "    </tr>\n",
       "    <tr>\n",
       "      <th>3</th>\n",
       "      <td>SGDClassifier(alpha=0.0001, average=False, cla...</td>\n",
       "      <td>0.696952</td>\n",
       "    </tr>\n",
       "  </tbody>\n",
       "</table>\n",
       "</div>"
      ],
      "text/plain": [
       "                                          classifier  accuracy\n",
       "0  LogisticRegression(C=1.0, class_weight=None, d...  0.708675\n",
       "1  (DecisionTreeClassifier(class_weight=None, cri...  0.554513\n",
       "2  LinearSVC(C=1.0, class_weight=None, dual=True,...  0.709261\n",
       "3  SGDClassifier(alpha=0.0001, average=False, cla...  0.696952"
      ]
     },
     "execution_count": 57,
     "metadata": {},
     "output_type": "execute_result"
    }
   ],
   "source": [
    "# A classification with lsa\n",
    "y = y_a1; X = X_a1sy\n",
    "X_trn, X_tst, y_trn, y_tst = train_test_split(X, y,  test_size=0.2, random_state=9)\n",
    "scrs = [clf.fit(X_trn, y_trn).score(X_tst, y_tst) for clf in clfs]\n",
    "pd.DataFrame([clfs,scrs], index=['classifier', 'accuracy']).T"
   ]
  },
  {
   "cell_type": "code",
   "execution_count": 58,
   "metadata": {},
   "outputs": [
    {
     "data": {
      "text/html": [
       "<div>\n",
       "<style scoped>\n",
       "    .dataframe tbody tr th:only-of-type {\n",
       "        vertical-align: middle;\n",
       "    }\n",
       "\n",
       "    .dataframe tbody tr th {\n",
       "        vertical-align: top;\n",
       "    }\n",
       "\n",
       "    .dataframe thead th {\n",
       "        text-align: right;\n",
       "    }\n",
       "</style>\n",
       "<table border=\"1\" class=\"dataframe\">\n",
       "  <thead>\n",
       "    <tr style=\"text-align: right;\">\n",
       "      <th></th>\n",
       "      <th>classifier</th>\n",
       "      <th>accuracy</th>\n",
       "    </tr>\n",
       "  </thead>\n",
       "  <tbody>\n",
       "    <tr>\n",
       "      <th>0</th>\n",
       "      <td>LogisticRegression(C=1.0, class_weight=None, d...</td>\n",
       "      <td>0.575615</td>\n",
       "    </tr>\n",
       "    <tr>\n",
       "      <th>1</th>\n",
       "      <td>(DecisionTreeClassifier(class_weight=None, cri...</td>\n",
       "      <td>0.470692</td>\n",
       "    </tr>\n",
       "    <tr>\n",
       "      <th>2</th>\n",
       "      <td>LinearSVC(C=1.0, class_weight=None, dual=True,...</td>\n",
       "      <td>0.575615</td>\n",
       "    </tr>\n",
       "    <tr>\n",
       "      <th>3</th>\n",
       "      <td>SGDClassifier(alpha=0.0001, average=False, cla...</td>\n",
       "      <td>0.556858</td>\n",
       "    </tr>\n",
       "  </tbody>\n",
       "</table>\n",
       "</div>"
      ],
      "text/plain": [
       "                                          classifier  accuracy\n",
       "0  LogisticRegression(C=1.0, class_weight=None, d...  0.575615\n",
       "1  (DecisionTreeClassifier(class_weight=None, cri...  0.470692\n",
       "2  LinearSVC(C=1.0, class_weight=None, dual=True,...  0.575615\n",
       "3  SGDClassifier(alpha=0.0001, average=False, cla...  0.556858"
      ]
     },
     "execution_count": 58,
     "metadata": {},
     "output_type": "execute_result"
    }
   ],
   "source": [
    "# A classification with lsa and without period and length\n",
    "y = y_a1; X = X_a1sn\n",
    "X_trn, X_tst, y_trn, y_tst = train_test_split(X, y,  test_size=0.2, random_state=9)\n",
    "scrs = [clf.fit(X_trn, y_trn).score(X_tst, y_tst) for clf in clfs]\n",
    "pd.DataFrame([clfs,scrs], index=['classifier', 'accuracy']).T"
   ]
  },
  {
   "cell_type": "markdown",
   "metadata": {},
   "source": [
    "### Sample B Classification <a name=\"classify\"></a>\n"
   ]
  },
  {
   "cell_type": "code",
   "execution_count": 34,
   "metadata": {},
   "outputs": [],
   "source": [
    "scr2s = cross_validate(clf1, X2, dfb.gndr, cv=5)['test_score']\n",
    "scr3s = cross_validate(clf1, X3, dfb.agrp, cv=5)['test_score']\n",
    "scr4s = cross_validate(clf1, X4, dfb.ogrp, cv=5)['test_score']\n",
    "scr5s = cross_validate(clf1, X5, dfb.sign, cv=5)['test_score']"
   ]
  },
  {
   "cell_type": "code",
   "execution_count": 45,
   "metadata": {},
   "outputs": [
    {
     "data": {
      "text/html": [
       "<div>\n",
       "<style scoped>\n",
       "    .dataframe tbody tr th:only-of-type {\n",
       "        vertical-align: middle;\n",
       "    }\n",
       "\n",
       "    .dataframe tbody tr th {\n",
       "        vertical-align: top;\n",
       "    }\n",
       "\n",
       "    .dataframe thead th {\n",
       "        text-align: right;\n",
       "    }\n",
       "</style>\n",
       "<table border=\"1\" class=\"dataframe\">\n",
       "  <thead>\n",
       "    <tr style=\"text-align: right;\">\n",
       "      <th></th>\n",
       "      <th>split_1</th>\n",
       "      <th>split_2</th>\n",
       "      <th>split_3</th>\n",
       "      <th>split_4</th>\n",
       "      <th>split_5</th>\n",
       "      <th>mean</th>\n",
       "      <th>std</th>\n",
       "    </tr>\n",
       "  </thead>\n",
       "  <tbody>\n",
       "    <tr>\n",
       "      <th>gndr</th>\n",
       "      <td>0.652921</td>\n",
       "      <td>0.610092</td>\n",
       "      <td>0.591743</td>\n",
       "      <td>0.500574</td>\n",
       "      <td>0.568312</td>\n",
       "      <td>0.584728</td>\n",
       "      <td>0.050387</td>\n",
       "    </tr>\n",
       "    <tr>\n",
       "      <th>agrp</th>\n",
       "      <td>0.691867</td>\n",
       "      <td>0.607798</td>\n",
       "      <td>0.700688</td>\n",
       "      <td>0.626866</td>\n",
       "      <td>0.694604</td>\n",
       "      <td>0.664365</td>\n",
       "      <td>0.038977</td>\n",
       "    </tr>\n",
       "    <tr>\n",
       "      <th>ogrp</th>\n",
       "      <td>0.284247</td>\n",
       "      <td>0.227950</td>\n",
       "      <td>0.187141</td>\n",
       "      <td>0.227586</td>\n",
       "      <td>0.195627</td>\n",
       "      <td>0.224510</td>\n",
       "      <td>0.034119</td>\n",
       "    </tr>\n",
       "    <tr>\n",
       "      <th>sign</th>\n",
       "      <td>0.118721</td>\n",
       "      <td>0.147766</td>\n",
       "      <td>0.143513</td>\n",
       "      <td>0.194253</td>\n",
       "      <td>0.067894</td>\n",
       "      <td>0.134430</td>\n",
       "      <td>0.041262</td>\n",
       "    </tr>\n",
       "  </tbody>\n",
       "</table>\n",
       "</div>"
      ],
      "text/plain": [
       "       split_1   split_2   split_3   split_4   split_5      mean       std\n",
       "gndr  0.652921  0.610092  0.591743  0.500574  0.568312  0.584728  0.050387\n",
       "agrp  0.691867  0.607798  0.700688  0.626866  0.694604  0.664365  0.038977\n",
       "ogrp  0.284247  0.227950  0.187141  0.227586  0.195627  0.224510  0.034119\n",
       "sign  0.118721  0.147766  0.143513  0.194253  0.067894  0.134430  0.041262"
      ]
     },
     "execution_count": 45,
     "metadata": {},
     "output_type": "execute_result"
    }
   ],
   "source": [
    "results = pd.DataFrame([scr2s, scr3s, scr4s,scr5s], index=trgts, columns=['split_' + str(i) for i in range(1,6)])\n",
    "results['mean'] = results.mean(axis=1) \n",
    "results['std']  = results.std(axis=1)\n",
    "results"
   ]
  },
  {
   "cell_type": "markdown",
   "metadata": {},
   "source": [
    "### Scratch   <a name=\"scratch\"></a>\n",
    "\n",
    "Save some of the superfluous code snippets that may be useful in the future. Plus any unit tests.  "
   ]
  },
  {
   "cell_type": "code",
   "execution_count": 102,
   "metadata": {},
   "outputs": [
    {
     "data": {
      "text/html": [
       "<div>\n",
       "<style scoped>\n",
       "    .dataframe tbody tr th:only-of-type {\n",
       "        vertical-align: middle;\n",
       "    }\n",
       "\n",
       "    .dataframe tbody tr th {\n",
       "        vertical-align: top;\n",
       "    }\n",
       "\n",
       "    .dataframe thead th {\n",
       "        text-align: right;\n",
       "    }\n",
       "</style>\n",
       "<table border=\"1\" class=\"dataframe\">\n",
       "  <thead>\n",
       "    <tr style=\"text-align: right;\">\n",
       "      <th></th>\n",
       "      <th>blgr</th>\n",
       "      <th>date</th>\n",
       "      <th>post</th>\n",
       "      <th>lnth</th>\n",
       "      <th>prd</th>\n",
       "      <th>ln_per</th>\n",
       "      <th>lemma</th>\n",
       "      <th>weight</th>\n",
       "    </tr>\n",
       "  </thead>\n",
       "  <tbody>\n",
       "    <tr>\n",
       "      <th>99</th>\n",
       "      <td>A</td>\n",
       "      <td>2004-04-10</td>\n",
       "      <td>\\n\\n    \\n       \\n      Blogger doesn't seem ...</td>\n",
       "      <td>177</td>\n",
       "      <td>36</td>\n",
       "      <td>12.134845</td>\n",
       "      <td>[Blogger, work, today, course, post, kinda, us...</td>\n",
       "      <td>6.400898</td>\n",
       "    </tr>\n",
       "  </tbody>\n",
       "</table>\n",
       "</div>"
      ],
      "text/plain": [
       "   blgr       date                                               post  lnth  \\\n",
       "99    A 2004-04-10  \\n\\n    \\n       \\n      Blogger doesn't seem ...   177   \n",
       "\n",
       "    prd     ln_per                                              lemma  \\\n",
       "99   36  12.134845  [Blogger, work, today, course, post, kinda, us...   \n",
       "\n",
       "      weight  \n",
       "99  6.400898  "
      ]
     },
     "execution_count": 102,
     "metadata": {},
     "output_type": "execute_result"
    }
   ],
   "source": [
    "dfs.tail(1)"
   ]
  },
  {
   "cell_type": "code",
   "execution_count": 103,
   "metadata": {},
   "outputs": [],
   "source": [
    "# double checking that I had not cheated somehow.  \n",
    "maxs=[]\n",
    "for cat in cats:\n",
    "    for k,v in cat.items():\n",
    "        if v == max(cat.values()):\n",
    "            maxs.append((k,v))"
   ]
  },
  {
   "cell_type": "code",
   "execution_count": 104,
   "metadata": {},
   "outputs": [
    {
     "data": {
      "text/plain": [
       "\"\\n\\n    \\n       \\n      Blogger doesn't seem to be working so well today.  Of course, posting about it is kinda useless, since it's not working and you won't see this post.\\n      \\n\""
      ]
     },
     "execution_count": 104,
     "metadata": {},
     "output_type": "execute_result"
    }
   ],
   "source": [
    "test[19]"
   ]
  },
  {
   "cell_type": "code",
   "execution_count": 105,
   "metadata": {
    "scrolled": false
   },
   "outputs": [
    {
     "data": {
      "text/plain": [
       "{'A': 0.9857666492462158,\n",
       " 'B': 0.00042816458153538406,\n",
       " 'C': 0.00023980230616871268,\n",
       " 'D': 0.00024075692635960877,\n",
       " 'E': 8.431278547504917e-05,\n",
       " 'F': 6.273669714573771e-05,\n",
       " 'G': 0.00013183275586925447,\n",
       " 'H': 4.539787187241018e-05,\n",
       " 'I': 0.0010240107076242566,\n",
       " 'J': 0.004062049090862274}"
      ]
     },
     "execution_count": 105,
     "metadata": {},
     "output_type": "execute_result"
    }
   ],
   "source": [
    "cats[19]"
   ]
  },
  {
   "cell_type": "code",
   "execution_count": 106,
   "metadata": {},
   "outputs": [
    {
     "data": {
      "text/plain": [
       "'A'"
      ]
     },
     "execution_count": 106,
     "metadata": {},
     "output_type": "execute_result"
    }
   ],
   "source": [
    "predicts[19]"
   ]
  },
  {
   "cell_type": "code",
   "execution_count": 76,
   "metadata": {
    "scrolled": true
   },
   "outputs": [
    {
     "data": {
      "text/plain": [
       "[('G', 0.9995852112770081),\n",
       " ('H', 0.9999306201934814),\n",
       " ('E', 0.9998462200164795),\n",
       " ('J', 0.9982249140739441),\n",
       " ('A', 0.989192545413971),\n",
       " ('E', 0.9995218515396118),\n",
       " ('C', 0.9985244870185852),\n",
       " ('D', 0.9985632300376892),\n",
       " ('H', 0.9963686466217041),\n",
       " ('D', 0.9949943423271179),\n",
       " ('G', 0.9948587417602539),\n",
       " ('J', 0.9938048124313354),\n",
       " ('E', 0.9993674159049988),\n",
       " ('A', 0.9848964214324951),\n",
       " ('A', 0.980679988861084),\n",
       " ('C', 0.9980013966560364),\n",
       " ('C', 0.9940387010574341),\n",
       " ('D', 0.999064028263092),\n",
       " ('I', 0.9880613088607788),\n",
       " ('A', 0.9857666492462158)]"
      ]
     },
     "execution_count": 76,
     "metadata": {},
     "output_type": "execute_result"
    }
   ],
   "source": [
    "maxs"
   ]
  },
  {
   "cell_type": "code",
   "execution_count": null,
   "metadata": {},
   "outputs": [],
   "source": []
  },
  {
   "cell_type": "code",
   "execution_count": 43,
   "metadata": {},
   "outputs": [],
   "source": [
    "# modeling data from feature set B Clustering\n",
    "prm_b0sy = {'df': dfb, 'cats':['agrp', 'ogrp', 'sign', 'gndr', 'prd'], 'nums':['ln_per'], 'name':'lsa'}\n",
    "X_b0sy = feature_sets(**prm_b0sy)"
   ]
  },
  {
   "cell_type": "code",
   "execution_count": 72,
   "metadata": {},
   "outputs": [],
   "source": [
    "d_tgt = {2:'gndr', 3:'agrp', 4:'ogrp', 5:'sign'}"
   ]
  },
  {
   "cell_type": "code",
   "execution_count": 78,
   "metadata": {},
   "outputs": [],
   "source": [
    "dct = {k: for k,v in d_tgt.items()}"
   ]
  },
  {
   "cell_type": "code",
   "execution_count": 68,
   "metadata": {},
   "outputs": [],
   "source": [
    "# # modeling data from feature set B supervised classification\n",
    "y_b2 = dfb.gndr; y_b3 = dfb.agrp; y_b4 = dfb.ogrp; y_b5 = dfb.sign\n",
    "prm_b2sy = {'df': dfb, 'cats':['agrp', 'ogrp', 'sign' ], 'nums':['ln_per'], 'name':'lsa'}\n",
    "X_b2sy = feature_sets(**prm_b2sy)\n",
    "prm_b3sy = {'df': dfb, 'cats':['gndr', 'ogrp', 'sign' ], 'nums':['ln_per'], 'name':'lsa'}\n",
    "X_b3sy = feature_sets(**prm_b3sy)\n",
    "prm_b4sy = {'df': dfb, 'cats':['gndr', 'agrp', 'sign' ], 'nums':['ln_per'], 'name':'lsa'}\n",
    "X_b42sy = feature_sets(**prm_b4sy)\n",
    "prm_b5sy = {'df': dfb, 'cats':['gndr', 'agrp', 'ogrp' ], 'nums':['ln_per'], 'name':'lsa'}\n",
    "X_b5sy = feature_sets(**prm_b5sy)"
   ]
  },
  {
   "cell_type": "code",
   "execution_count": null,
   "metadata": {},
   "outputs": [],
   "source": []
  },
  {
   "cell_type": "code",
   "execution_count": null,
   "metadata": {},
   "outputs": [],
   "source": [
    "scores = []\n",
    "dct = {'A':('title', 'BoW'), 'C':('title', 'tfidf'), 'B':('author', 'BoW'), 'D':('author', 'tfidf'), \n",
    "       1:'LogisticRegression', 2:'RandomForestClassifier'}\n",
    "for c in 'ABCD':\n",
    "    for i in range(1,3):\n",
    "        tup = eval(c); clf = eval('clf' + str(i))\n",
    "        clf.fit(tup[0], tup[2])\n",
    "        scores.append(pd.Series({'classifier': dct[i], 'target': dct[c][0], 'method': dct[c][1], \n",
    "                                 'train':clf.score(tup[0], tup[2]), 'test':clf.score(tup[1], tup[3])}))\n",
    "    "
   ]
  },
  {
   "cell_type": "code",
   "execution_count": null,
   "metadata": {},
   "outputs": [],
   "source": [
    "# data for 2 targets x 2 feature sets\n",
    "y1 = df1.title; y2 = df1.author\n",
    "X1_trn, X1_tst, y1_trn, y1_tst = train_test_split(X, y1,  test_size=0.2, random_state=9)\n",
    "X2_trn, X2_tst, y2_trn, y2_tst = train_test_split(X, y2,  test_size=0.2, random_state=9)\n",
    "X3_trn, X3_tst, y3_trn, y3_tst = train_test_split(Xt, y1, test_size=0.2, random_state=9)\n",
    "X4_trn, X4_tst, y4_trn, y4_tst = train_test_split(Xt, y2, test_size=0.2, random_state=9)"
   ]
  },
  {
   "cell_type": "code",
   "execution_count": null,
   "metadata": {},
   "outputs": [],
   "source": [
    "# save train / test data as tuples to more easily document initial 8 classifcations\n",
    "A = train_test_split(X,  y1,  test_size=0.2, random_state=9)\n",
    "B = train_test_split(X,  y2,  test_size=0.2, random_state=9)\n",
    "C = train_test_split(Xt, y1,  test_size=0.2, random_state=9)\n",
    "D = train_test_split(Xt, y2,  test_size=0.2, random_state=9)"
   ]
  },
  {
   "cell_type": "code",
   "execution_count": null,
   "metadata": {},
   "outputs": [],
   "source": [
    "pd.DataFrame(scores)"
   ]
  },
  {
   "cell_type": "code",
   "execution_count": null,
   "metadata": {},
   "outputs": [],
   "source": [
    "tfr_cat = Pipeline(steps=[('ohe', OneHotEncoder(categories='auto'))])\n",
    "tfr_ord = Pipeline(steps=[('ord', OrdinalEncoder(categories='auto'))])\n",
    "tfr_bow = Pipeline(steps=[('cvr',CountVectorizer(lowercase=False,min_df=0.01, max_df=0.50))])"
   ]
  },
  {
   "cell_type": "code",
   "execution_count": null,
   "metadata": {
    "scrolled": true
   },
   "outputs": [],
   "source": [
    "clf_bow = LogisticRegressionCV(cv=5, random_state=0, solver='lbfgs', multi_class='auto', max_iter=200).fit(X,  y2)\n",
    "#clf_idf = LogisticRegressionCV(cv=5, random_state=0, solver='lbfgs', multi_class='auto', max_iter=200).fit(Xt, y2)"
   ]
  },
  {
   "cell_type": "code",
   "execution_count": null,
   "metadata": {},
   "outputs": [],
   "source": [
    "print('Bag of words cross validation score: %.4f' % clf_bow.score(X, y2))\n",
    "print('tf-idf cross validation score: %.4f' % clf_idf.score(X, y2))"
   ]
  },
  {
   "cell_type": "code",
   "execution_count": null,
   "metadata": {},
   "outputs": [],
   "source": [
    "# classifier runs prior to increasing BoW feature number\n",
    "svd = TruncatedSVD(n_components=300, random_state=3)\n",
    "Xs = svd.fit_transform(X)\n",
    "svd.explained_variance_ratio_.sum()"
   ]
  },
  {
   "cell_type": "code",
   "execution_count": null,
   "metadata": {},
   "outputs": [],
   "source": [
    "clf = LogisticRegression(solver='lbfgs', multi_class='auto', max_iter=200)\n",
    "clf.fit(X_trn, y_trn)\n",
    "clf.score(X_tst, y_tst)"
   ]
  },
  {
   "cell_type": "code",
   "execution_count": null,
   "metadata": {},
   "outputs": [],
   "source": [
    "# X1 features used to increase accuracy\n",
    "vectorizer = CountVectorizer(lowercase=False,min_df=0.0005, max_df=0.50)\n",
    "X1 = vectorizer.fit_transform(lemmas)\n",
    "svd = TruncatedSVD(n_components=1000, random_state=3)\n",
    "X1s = svd.fit_transform(X1)\n",
    "print('explained variance ration: %.4f' % svd.explained_variance_ratio_.sum())\n",
    "X_trn, X_tst, y_trn, y_tst = train_test_split(X1s, y2,  test_size=0.2, random_state=9)\n",
    "clf = LogisticRegression(solver='lbfgs', multi_class='auto', max_iter=200)\n",
    "clf.fit(X_trn, y_trn)\n",
    "clf.score(X_tst, y_tst)"
   ]
  },
  {
   "cell_type": "code",
   "execution_count": null,
   "metadata": {},
   "outputs": [],
   "source": [
    "def group_upper(G):\n",
    "    dct = {}; uppers = ascii_uppercase[0:len(G)]\n",
    "    for (i,g) in enumerate(G):\n",
    "        for key in g:\n",
    "            dct[key] = uppers[i]\n",
    "    return(dct)"
   ]
  },
  {
   "cell_type": "code",
   "execution_count": null,
   "metadata": {},
   "outputs": [],
   "source": [
    "# check that samples still match up with features\n",
    "assert df1.shape[0] == X.shape[0]\n",
    "assert df1.shape[0] == Xt.shape[0]\n",
    "assert X.shape      == Xt.shape"
   ]
  },
  {
   "cell_type": "code",
   "execution_count": null,
   "metadata": {},
   "outputs": [],
   "source": [
    "# initial combining the occupations based on similarity not sparcity\n",
    "combine = [['Technology', 'Internet'],['Consulting', 'Marketing', 'BusinessServices', 'Advertising', 'HumanResources'],\n",
    "          ['Chemicals', 'Science'],['Law'],['Non-Profit', 'Museums-Libraries', 'Arts'], \n",
    "          ['Communications-Media', 'Telecommunications'], ['Government'], ['Accounting'], ['Education'], ['Fashion'],\n",
    "          ['Banking', 'InvestmentBanking'], ['Student'], ['Engineering'], ['Religion'], \n",
    "          ['Military','LawEnforcement-Security'], ['Architecture'], ['Sports-Recreation', 'Tourism'], ['Transportation'],\n",
    "          ['Publishing'], ['RealEstate'], ['Manufacturing'],'Telecommunications']\n",
    "        \n",
    "assert group_upper(combine)['Consulting'] == 'B'\n",
    "dct_tfm = group_upper(combine)\n"
   ]
  },
  {
   "cell_type": "code",
   "execution_count": null,
   "metadata": {},
   "outputs": [],
   "source": [
    "scores = {}\n",
    "clf1.fit(X3_trn, y3_trn)\n",
    "scores = {'train': clf1.score(X3_trn, y3_trn), 'test': clf1.score(X3_tst, y3_tst)}\n",
    "scores"
   ]
  },
  {
   "cell_type": "code",
   "execution_count": null,
   "metadata": {},
   "outputs": [],
   "source": [
    "len(vectorizer.get_feature_names())"
   ]
  },
  {
   "cell_type": "code",
   "execution_count": null,
   "metadata": {},
   "outputs": [],
   "source": [
    "df1.sentence[2]"
   ]
  },
  {
   "cell_type": "code",
   "execution_count": null,
   "metadata": {},
   "outputs": [],
   "source": [
    "df1.sentence[2].lemma_"
   ]
  },
  {
   "cell_type": "code",
   "execution_count": null,
   "metadata": {},
   "outputs": [],
   "source": [
    "lemmas[0:4]"
   ]
  },
  {
   "cell_type": "code",
   "execution_count": null,
   "metadata": {},
   "outputs": [],
   "source": [
    "rx4.sub('test',raws[14][0:100])"
   ]
  },
  {
   "cell_type": "code",
   "execution_count": null,
   "metadata": {},
   "outputs": [],
   "source": [
    "# entity dectection \n",
    "entities=[(i, i.label_, i.label) for i in nytimes.ents]"
   ]
  },
  {
   "cell_type": "code",
   "execution_count": 120,
   "metadata": {},
   "outputs": [
    {
     "data": {
      "text/html": [
       "<div>\n",
       "<style scoped>\n",
       "    .dataframe tbody tr th:only-of-type {\n",
       "        vertical-align: middle;\n",
       "    }\n",
       "\n",
       "    .dataframe tbody tr th {\n",
       "        vertical-align: top;\n",
       "    }\n",
       "\n",
       "    .dataframe thead th {\n",
       "        text-align: right;\n",
       "    }\n",
       "</style>\n",
       "<table border=\"1\" class=\"dataframe\">\n",
       "  <thead>\n",
       "    <tr style=\"text-align: right;\">\n",
       "      <th></th>\n",
       "      <th>blogger</th>\n",
       "      <th>n_is_2</th>\n",
       "      <th>n_is_5</th>\n",
       "      <th>n_is_10</th>\n",
       "    </tr>\n",
       "  </thead>\n",
       "  <tbody>\n",
       "    <tr>\n",
       "      <th>6816</th>\n",
       "      <td>J</td>\n",
       "      <td>NaN</td>\n",
       "      <td>NaN</td>\n",
       "      <td>NaN</td>\n",
       "    </tr>\n",
       "    <tr>\n",
       "      <th>6817</th>\n",
       "      <td>J</td>\n",
       "      <td>NaN</td>\n",
       "      <td>NaN</td>\n",
       "      <td>NaN</td>\n",
       "    </tr>\n",
       "    <tr>\n",
       "      <th>6818</th>\n",
       "      <td>J</td>\n",
       "      <td>NaN</td>\n",
       "      <td>NaN</td>\n",
       "      <td>NaN</td>\n",
       "    </tr>\n",
       "    <tr>\n",
       "      <th>6819</th>\n",
       "      <td>J</td>\n",
       "      <td>NaN</td>\n",
       "      <td>NaN</td>\n",
       "      <td>NaN</td>\n",
       "    </tr>\n",
       "    <tr>\n",
       "      <th>6820</th>\n",
       "      <td>J</td>\n",
       "      <td>NaN</td>\n",
       "      <td>NaN</td>\n",
       "      <td>NaN</td>\n",
       "    </tr>\n",
       "  </tbody>\n",
       "</table>\n",
       "</div>"
      ],
      "text/plain": [
       "     blogger n_is_2 n_is_5 n_is_10\n",
       "6816       J    NaN    NaN     NaN\n",
       "6817       J    NaN    NaN     NaN\n",
       "6818       J    NaN    NaN     NaN\n",
       "6819       J    NaN    NaN     NaN\n",
       "6820       J    NaN    NaN     NaN"
      ]
     },
     "execution_count": 120,
     "metadata": {},
     "output_type": "execute_result"
    }
   ],
   "source": [
    "dfr = pd.DataFrame([fst_a1w[2], clu1, clu4, clu9], index = ['blogger', 'n_is_2',  'n_is_5', 'n_is_10']).T\n",
    "dfr = dfr.sort_values(by='blogger')\n",
    "dfr.index = range(len(dfr))\n",
    "dfr.tail()"
   ]
  },
  {
   "cell_type": "code",
   "execution_count": 118,
   "metadata": {},
   "outputs": [],
   "source": [
    "import thinc.extra.datasets\n",
    "import random"
   ]
  },
  {
   "cell_type": "code",
   "execution_count": 119,
   "metadata": {},
   "outputs": [],
   "source": [
    "def load_data(limit=0, split=0.8):\n",
    "    \"\"\"Load data from the IMDB dataset.\"\"\"\n",
    "    # Partition off part of the train data for evaluation\n",
    "    train_data, _ = thinc.extra.datasets.imdb()\n",
    "    random.shuffle(train_data)\n",
    "    train_data = train_data[-limit:]\n",
    "    texts, labels = zip(*train_data)\n",
    "    cats = [{\"POSITIVE\": bool(y), \"NEGATIVE\": not bool(y)} for y in labels]\n",
    "    split = int(len(train_data) * split)\n",
    "    return (texts[:split], cats[:split]), (texts[split:], cats[split:])"
   ]
  },
  {
   "cell_type": "code",
   "execution_count": null,
   "metadata": {},
   "outputs": [],
   "source": [
    "(train_texts, train_cats), (dev_texts, dev_cats) = load_data()\n",
    "train_texts = train_texts[:n_texts]\n",
    "train_cats = train_cats[:n_texts]\n",
    "print(\n",
    "    \"Using {} examples ({} training, {} evaluation)\".format(\n",
    "        n_texts, len(train_texts), len(dev_texts)\n",
    "    )\n",
    ")\n",
    "train_data = list(zip(train_texts, [{\"cats\": cats} for cats in train_cats]))"
   ]
  },
  {
   "cell_type": "code",
   "execution_count": 78,
   "metadata": {},
   "outputs": [],
   "source": [
    "import spacy\n",
    "from spacy.lang.en import English\n",
    "nlp = spacy.load(\"en_core_web_lg\")\n",
    "import random\n",
    "TRAINING_DATA = [    [\"My little kitty is so special\", {\"KAT\": True, \"FAT\":False}],\n",
    "    [\"Dude, Totally, Yeah, Video Games\", {\"KAT\": False, \"FAT\":True}],\n",
    "    [\"Should I pay $1,000 for the iPhone X?\", {\"KAT\": False, \"FAT\":True}],\n",
    "    [\"The iPhone 8 reviews are here\", {\"KAT\": False, \"FAT\":True}],\n",
    "    [\"Noa is a great cat name.\", {\"KAT\": True, \"FAT\":False}],\n",
    "    [\"We got a new kitten!\", {\"KAT\": True, \"FAT\":False}]]"
   ]
  }
 ],
 "metadata": {
  "kernelspec": {
   "display_name": "Python 3",
   "language": "python",
   "name": "python3"
  },
  "language_info": {
   "codemirror_mode": {
    "name": "ipython",
    "version": 3
   },
   "file_extension": ".py",
   "mimetype": "text/x-python",
   "name": "python",
   "nbconvert_exporter": "python",
   "pygments_lexer": "ipython3",
   "version": "3.7.3"
  }
 },
 "nbformat": 4,
 "nbformat_minor": 2
}
